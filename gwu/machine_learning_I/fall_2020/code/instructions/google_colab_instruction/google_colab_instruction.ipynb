{
 "cells": [
  {
   "cell_type": "markdown",
   "metadata": {
    "colab_type": "text",
    "id": "6A8jdrpTe_0W",
    "toc": true
   },
   "source": [
    "<h1>Table of Contents<span class=\"tocSkip\"></span></h1>\n",
    "<div class=\"toc\"><ul class=\"toc-item\"><li><span><a href=\"#Overview\" data-toc-modified-id=\"Overview-1\"><span class=\"toc-item-num\">1&nbsp;&nbsp;</span>Overview</a></span></li><li><span><a href=\"#Five-Steps-for-Setting-Up-Colab\" data-toc-modified-id=\"Five-Steps-for-Setting-Up-Colab-2\"><span class=\"toc-item-num\">2&nbsp;&nbsp;</span>Five Steps for Setting Up Colab</a></span><ul class=\"toc-item\"><li><span><a href=\"#Installing-Colab-on-Google-Drive\" data-toc-modified-id=\"Installing-Colab-on-Google-Drive-2.1\"><span class=\"toc-item-num\">2.1&nbsp;&nbsp;</span>Installing Colab on Google Drive</a></span></li><li><span><a href=\"#Moving-the-Code-and-Data-to-Google-Drive\" data-toc-modified-id=\"Moving-the-Code-and-Data-to-Google-Drive-2.2\"><span class=\"toc-item-num\">2.2&nbsp;&nbsp;</span>Moving the Code and Data to Google Drive</a></span></li><li><span><a href=\"#Opening-the-Code-using-Colab\" data-toc-modified-id=\"Opening-the-Code-using-Colab-2.3\"><span class=\"toc-item-num\">2.3&nbsp;&nbsp;</span>Opening the Code using Colab</a></span></li><li><span><a href=\"#Mounting-Google-Drive\" data-toc-modified-id=\"Mounting-Google-Drive-2.4\"><span class=\"toc-item-num\">2.4&nbsp;&nbsp;</span>Mounting Google Drive</a></span></li><li><span><a href=\"#Changing-Runtime-Type\" data-toc-modified-id=\"Changing-Runtime-Type-2.5\"><span class=\"toc-item-num\">2.5&nbsp;&nbsp;</span>Changing Runtime Type</a></span></li></ul></li><li><span><a href=\"#Toy-Case-Studys\" data-toc-modified-id=\"Toy-Case-Studys-3\"><span class=\"toc-item-num\">3&nbsp;&nbsp;</span>Toy Case Studys</a></span><ul class=\"toc-item\"><li><span><a href=\"#Shallow-Learning-with-Sklearn\" data-toc-modified-id=\"Shallow-Learning-with-Sklearn-3.1\"><span class=\"toc-item-num\">3.1&nbsp;&nbsp;</span>Shallow Learning with Sklearn</a></span><ul class=\"toc-item\"><li><span><a href=\"#Loading-data\" data-toc-modified-id=\"Loading-data-3.1.1\"><span class=\"toc-item-num\">3.1.1&nbsp;&nbsp;</span>Loading data</a></span></li><li><span><a href=\"#Modeling\" data-toc-modified-id=\"Modeling-3.1.2\"><span class=\"toc-item-num\">3.1.2&nbsp;&nbsp;</span>Modeling</a></span></li></ul></li><li><span><a href=\"#Deep-Learning-with-TensorFlow\" data-toc-modified-id=\"Deep-Learning-with-TensorFlow-3.2\"><span class=\"toc-item-num\">3.2&nbsp;&nbsp;</span>Deep Learning with TensorFlow</a></span><ul class=\"toc-item\"><li><span><a href=\"#Loading-data\" data-toc-modified-id=\"Loading-data-3.2.1\"><span class=\"toc-item-num\">3.2.1&nbsp;&nbsp;</span>Loading data</a></span></li><li><span><a href=\"#Dividing-the-Training-Data-into-Training-and-Validation\" data-toc-modified-id=\"Dividing-the-Training-Data-into-Training-and-Validation-3.2.2\"><span class=\"toc-item-num\">3.2.2&nbsp;&nbsp;</span>Dividing the Training Data into Training and Validation</a></span></li><li><span><a href=\"#Standardizing-the-features\" data-toc-modified-id=\"Standardizing-the-features-3.2.3\"><span class=\"toc-item-num\">3.2.3&nbsp;&nbsp;</span>Standardizing the features</a></span></li><li><span><a href=\"#Modeling\" data-toc-modified-id=\"Modeling-3.2.4\"><span class=\"toc-item-num\">3.2.4&nbsp;&nbsp;</span>Modeling</a></span></li></ul></li></ul></li></ul></div>"
   ]
  },
  {
   "cell_type": "markdown",
   "metadata": {
    "colab_type": "text",
    "id": "YTiWqATn4ANO"
   },
   "source": [
    "<b>\n",
    "<p>\n",
    "<center>\n",
    "<font size=\"5\">\n",
    "Popular Machine Learning Methods: Idea, Practice and Math\n",
    "</font>\n",
    "</center>\n",
    "</p>\n",
    "\n",
    "<p>\n",
    "<center>\n",
    "<font size=\"4\">\n",
    "Google Colab Instruction\n",
    "</font>\n",
    "</center>\n",
    "</p>\n",
    "\n",
    "<p>\n",
    "<center>\n",
    "<font size=\"3\">\n",
    "Data Science, Columbian College of Arts & Sciences, George Washington University\n",
    "</font>\n",
    "</center>\n",
    "</p>\n",
    "\n",
    "<p>\n",
    "<center>\n",
    "<font size=\"3\">\n",
    "Yuxiao Huang\n",
    "</font>\n",
    "</center>\n",
    "</p>\n",
    "</b>"
   ]
  },
  {
   "cell_type": "markdown",
   "metadata": {
    "colab_type": "text",
    "id": "T6P2dr4LzvnB"
   },
   "source": [
    "# Overview\n",
    "Google Colaboratory (Colab hereafter) is an excutable document that allows you to write, run and share python code on your Google Drive, with (upto 12 hours) free access to GPU and TPU. For more details of Colab, see [Introduction to Colab](https://www.youtube.com/watch?v=inN8seMm7UI).\n",
    "\n",
    "In this instruction we first show the five steps for setting up Colab. We then use two toy case studies to illustrate how to use Colab for shallow learning (with [Sklearn](https://scikit-learn.org/stable/)) and deep learning (with [TensorFlow](https://www.tensorflow.org)). It is worth noting that there are several other ways for setting up Colab. For more details see [Google Colab documentation](https://colab.research.google.com)."
   ]
  },
  {
   "cell_type": "markdown",
   "metadata": {
    "colab_type": "text",
    "id": "arslHkpXe_0b"
   },
   "source": [
    "# Five Steps for Setting Up Colab"
   ]
  },
  {
   "cell_type": "markdown",
   "metadata": {},
   "source": [
    "## Installing Colab on Google Drive\n",
    "Go to [https://colab.research.google.com/](https://colab.research.google.com/)."
   ]
  },
  {
   "cell_type": "markdown",
   "metadata": {},
   "source": [
    "<img src=\"https://drive.google.com/uc?id=1dJALlDW7irtbuiAc7ZnduQWZ5akfmLyC\" width=\"900\" height=\"100\">"
   ]
  },
  {
   "cell_type": "markdown",
   "metadata": {},
   "source": [
    "Click *NEW NOTEBOOK* (on the bottom right). This creates a new notebook file named \"Untitled0.ipynb\"."
   ]
  },
  {
   "cell_type": "markdown",
   "metadata": {},
   "source": [
    "<img src=\"https://drive.google.com/uc?id=1V9cJcNQK36ErY82978nWzrdqhSYv8yvi\" width=\"900\" height=\"100\">"
   ]
  },
  {
   "cell_type": "markdown",
   "metadata": {},
   "source": [
    "Click *File* on the navigation bar. Then click *Save*. This automatically installs Colab on Google Drive and creates a folder named \"Colab Notebooks\" on the drive."
   ]
  },
  {
   "cell_type": "markdown",
   "metadata": {},
   "source": [
    "<img src=\"https://drive.google.com/uc?id=1Ffs5nJEG69EptYqejL2EAj0JLQMq7m2N\" width=\"900\" height=\"100\">"
   ]
  },
  {
   "cell_type": "markdown",
   "metadata": {
    "colab_type": "text",
    "id": "HQe-M6OmIHbf"
   },
   "source": [
    "## Moving the Code and Data to Google Drive\n",
    "Move the code (e.g., google_colab_instruction.ipynb) and data to folder \"Colab Notebooks\" on Google Drive."
   ]
  },
  {
   "cell_type": "markdown",
   "metadata": {
    "colab_type": "text",
    "id": "mhSq-cJfm7Ic"
   },
   "source": [
    "<img src=\"https://drive.google.com/uc?id=1Zjk86qbe1TuupnzwmFCJHDG8RIArsGJH\" width=\"900\" height=\"100\">"
   ]
  },
  {
   "cell_type": "markdown",
   "metadata": {
    "colab_type": "text",
    "id": "I6dt4xEze_0e"
   },
   "source": [
    "## Opening the Code using Colab\n",
    "Open the code using Colab with the following steps:\n",
    "- right click the file\n",
    "- in the first drop-down menu, choose *Open with*\n",
    "- in the second drop-down menu, choose *Google Colaboratory*"
   ]
  },
  {
   "cell_type": "markdown",
   "metadata": {
    "colab_type": "text",
    "id": "OXG2XT4Ke_0f"
   },
   "source": [
    "<img src=\"https://drive.google.com/uc?id=1oSJWBM85Au8JAaB0xjdozuBEsJYcvl5-\" width=\"900\" height=\"100\">"
   ]
  },
  {
   "cell_type": "markdown",
   "metadata": {
    "colab_type": "text",
    "id": "nZ1w2FXv1003"
   },
   "source": [
    "## Mounting Google Drive\n",
    "Once in Colab, run the code below to mount Google Drive in the runtime's virtual machine."
   ]
  },
  {
   "cell_type": "code",
   "execution_count": 0,
   "metadata": {
    "colab": {
     "base_uri": "https://localhost:8080/",
     "height": 122
    },
    "colab_type": "code",
    "id": "h3Kmgf2V1Mt4",
    "outputId": "ddcc6e34-1d54-4147-ee52-9cd9e15f3a75"
   },
   "outputs": [
    {
     "name": "stdout",
     "output_type": "stream",
     "text": [
      "Go to this URL in a browser: https://accounts.google.com/o/oauth2/auth?client_id=947318989803-6bn6qk8qdgf4n4g3pfee6491hc0brc4i.apps.googleusercontent.com&redirect_uri=urn%3aietf%3awg%3aoauth%3a2.0%3aoob&response_type=code&scope=email%20https%3a%2f%2fwww.googleapis.com%2fauth%2fdocs.test%20https%3a%2f%2fwww.googleapis.com%2fauth%2fdrive%20https%3a%2f%2fwww.googleapis.com%2fauth%2fdrive.photos.readonly%20https%3a%2f%2fwww.googleapis.com%2fauth%2fpeopleapi.readonly\n",
      "\n",
      "Enter your authorization code:\n",
      "··········\n",
      "Mounted at /content/drive\n"
     ]
    }
   ],
   "source": [
    "from google.colab import drive\n",
    "drive.mount('/content/drive')"
   ]
  },
  {
   "cell_type": "markdown",
   "metadata": {
    "colab_type": "text",
    "id": "RHEzk_Xs1Mt7"
   },
   "source": [
    "This will generate a URL and a box."
   ]
  },
  {
   "cell_type": "markdown",
   "metadata": {
    "colab_type": "text",
    "id": "gym88yv41Mt8"
   },
   "source": [
    "<img src=\"https://drive.google.com/uc?id=1wrXfqUT8d-iZoLXiKARy7Lqk-BL_qTkO\">"
   ]
  },
  {
   "cell_type": "markdown",
   "metadata": {
    "colab_type": "text",
    "id": "4JAdf2nV1Mt9"
   },
   "source": [
    "Click the URL. Then Google asks us to sign in."
   ]
  },
  {
   "cell_type": "markdown",
   "metadata": {
    "colab_type": "text",
    "id": "QHHCwi7i1Mt-"
   },
   "source": [
    "<img src=\"https://drive.google.com/uc?id=14_bKXMs_49vDDFuwymPnRReB0IcFxdDI\" width=\"400\" height=\"100\">"
   ]
  },
  {
   "cell_type": "markdown",
   "metadata": {
    "colab_type": "text",
    "id": "8cgKP9c91MuC"
   },
   "source": [
    "Choose an account. Then Google asks for permission to access Google account."
   ]
  },
  {
   "cell_type": "markdown",
   "metadata": {
    "colab_type": "text",
    "id": "srsNj8L81MuF"
   },
   "source": [
    "<img src=\"https://drive.google.com/uc?id=1Aix-Ytl2rjoRka_LdkuR4kQUoz0IuvQI\" width=\"400\" height=\"100\">"
   ]
  },
  {
   "cell_type": "markdown",
   "metadata": {
    "colab_type": "text",
    "id": "6A9PV9u51MuG"
   },
   "source": [
    "Click *Allow*. This gives Google the permission and us the authorization code."
   ]
  },
  {
   "cell_type": "markdown",
   "metadata": {
    "colab_type": "text",
    "id": "jY0EZfq31MuL"
   },
   "source": [
    "<img src=\"https://drive.google.com/uc?id=1gkUNP2ZfV1oia81TsChcps3vu8huTz0r\" width=\"600\" height=\"100\">"
   ]
  },
  {
   "cell_type": "markdown",
   "metadata": {
    "colab_type": "text",
    "id": "qR2KwKzv1MuM"
   },
   "source": [
    "Copy the authorization code and paste it in the box. Then press *Enter* to mount Google Drive."
   ]
  },
  {
   "cell_type": "markdown",
   "metadata": {
    "colab_type": "text",
    "id": "AWrRYNSA1MuO"
   },
   "source": [
    "<img src=\"https://drive.google.com/uc?id=1kbQv8tAr-VGo0GJpS_pQfaqqja10xkJK\">"
   ]
  },
  {
   "cell_type": "markdown",
   "metadata": {
    "colab_type": "text",
    "id": "4GzsWq1t1MuQ"
   },
   "source": [
    "Google Drive is mounted (at /content/drive), hooray!"
   ]
  },
  {
   "cell_type": "markdown",
   "metadata": {
    "colab_type": "text",
    "id": "xKTKzmoX1MuR"
   },
   "source": [
    "<img src=\"https://drive.google.com/uc?id=1WecgwR3DSgvllmFoMvghQiiUY3UosNPN\">"
   ]
  },
  {
   "cell_type": "markdown",
   "metadata": {
    "colab_type": "text",
    "id": "A9gLn-k7UPGA"
   },
   "source": [
    "## Changing Runtime Type"
   ]
  },
  {
   "cell_type": "markdown",
   "metadata": {
    "colab_type": "text",
    "id": "oCkHrkDw1MuS"
   },
   "source": [
    "Click *Runtime* on the navigation bar. Then click *Change runtime type* in the drop-down menu."
   ]
  },
  {
   "cell_type": "markdown",
   "metadata": {
    "colab_type": "text",
    "id": "O4MKHcE51MuT"
   },
   "source": [
    "<img src=\"https://drive.google.com/uc?id=1_JeXRLFKmwCG4jVLH9Ufq9RzTc0wNckZ\" width=\"900\" height=\"100\">"
   ]
  },
  {
   "cell_type": "markdown",
   "metadata": {
    "colab_type": "text",
    "id": "IsvNft121MuU"
   },
   "source": [
    "Change *Runtime type* to *Python 3* and *Hardware acceleator* to *GPU* (or *TPU*, if necessary)."
   ]
  },
  {
   "cell_type": "markdown",
   "metadata": {
    "colab_type": "text",
    "id": "cOqxLZt-1MuU"
   },
   "source": [
    "<img src=\"https://drive.google.com/uc?id=1fjABHM8f8XrB4ukKigJlSDwd56PgvDm5\" width=\"400\" height=\"100\">"
   ]
  },
  {
   "cell_type": "markdown",
   "metadata": {
    "colab_type": "text",
    "id": "gtZg95Xn1MuV"
   },
   "source": [
    "Congrats! Now Colab is ready to use!"
   ]
  },
  {
   "cell_type": "markdown",
   "metadata": {
    "colab_type": "text",
    "id": "Uzr3JXA9e_0k"
   },
   "source": [
    "# Toy Case Studys "
   ]
  },
  {
   "cell_type": "markdown",
   "metadata": {
    "colab_type": "text",
    "id": "5G61Dzl_e_0l"
   },
   "source": [
    "## Shallow Learning with Sklearn"
   ]
  },
  {
   "cell_type": "markdown",
   "metadata": {
    "colab_type": "text",
    "id": "kznAhPwhfGt8"
   },
   "source": [
    "### Loading data"
   ]
  },
  {
   "cell_type": "code",
   "execution_count": 0,
   "metadata": {
    "colab": {},
    "colab_type": "code",
    "id": "zW1uSyRrfF7X"
   },
   "outputs": [],
   "source": [
    "import pandas as pd\n",
    "\n",
    "# The absolute path of the current directory\n",
    "abspath = '/content/drive/My Drive/Colab Notebooks/teaching/gwu/machine_learning_I/google_colab_instruction/'\n",
    "\n",
    "# Load the training data\n",
    "df_train = pd.read_csv(abspath + 'data/train.csv', header=0)\n",
    "\n",
    "# Load the testing data\n",
    "df_test = pd.read_csv(abspath + 'data/test.csv', header=0)"
   ]
  },
  {
   "cell_type": "code",
   "execution_count": 0,
   "metadata": {
    "colab": {
     "base_uri": "https://localhost:8080/",
     "height": 111
    },
    "colab_type": "code",
    "id": "dzks9d-boSy4",
    "outputId": "cff56a21-a57c-407a-9019-9029004926f8"
   },
   "outputs": [
    {
     "data": {
      "text/html": [
       "<div>\n",
       "<style scoped>\n",
       "    .dataframe tbody tr th:only-of-type {\n",
       "        vertical-align: middle;\n",
       "    }\n",
       "\n",
       "    .dataframe tbody tr th {\n",
       "        vertical-align: top;\n",
       "    }\n",
       "\n",
       "    .dataframe thead th {\n",
       "        text-align: right;\n",
       "    }\n",
       "</style>\n",
       "<table border=\"1\" class=\"dataframe\">\n",
       "  <thead>\n",
       "    <tr style=\"text-align: right;\">\n",
       "      <th></th>\n",
       "      <th>x</th>\n",
       "      <th>y</th>\n",
       "    </tr>\n",
       "  </thead>\n",
       "  <tbody>\n",
       "    <tr>\n",
       "      <th>0</th>\n",
       "      <td>0</td>\n",
       "      <td>0</td>\n",
       "    </tr>\n",
       "    <tr>\n",
       "      <th>1</th>\n",
       "      <td>1</td>\n",
       "      <td>1</td>\n",
       "    </tr>\n",
       "  </tbody>\n",
       "</table>\n",
       "</div>"
      ],
      "text/plain": [
       "   x  y\n",
       "0  0  0\n",
       "1  1  1"
      ]
     },
     "execution_count": 3,
     "metadata": {
      "tags": []
     },
     "output_type": "execute_result"
    }
   ],
   "source": [
    "# Print the first 5 rows of df_train\n",
    "df_train.head()"
   ]
  },
  {
   "cell_type": "code",
   "execution_count": 0,
   "metadata": {
    "colab": {
     "base_uri": "https://localhost:8080/",
     "height": 111
    },
    "colab_type": "code",
    "id": "T6vTJY--ogOH",
    "outputId": "f01743b8-1115-4b80-833f-131a225c3542"
   },
   "outputs": [
    {
     "data": {
      "text/html": [
       "<div>\n",
       "<style scoped>\n",
       "    .dataframe tbody tr th:only-of-type {\n",
       "        vertical-align: middle;\n",
       "    }\n",
       "\n",
       "    .dataframe tbody tr th {\n",
       "        vertical-align: top;\n",
       "    }\n",
       "\n",
       "    .dataframe thead th {\n",
       "        text-align: right;\n",
       "    }\n",
       "</style>\n",
       "<table border=\"1\" class=\"dataframe\">\n",
       "  <thead>\n",
       "    <tr style=\"text-align: right;\">\n",
       "      <th></th>\n",
       "      <th>x</th>\n",
       "      <th>y</th>\n",
       "    </tr>\n",
       "  </thead>\n",
       "  <tbody>\n",
       "    <tr>\n",
       "      <th>0</th>\n",
       "      <td>2</td>\n",
       "      <td>2</td>\n",
       "    </tr>\n",
       "    <tr>\n",
       "      <th>1</th>\n",
       "      <td>3</td>\n",
       "      <td>3</td>\n",
       "    </tr>\n",
       "  </tbody>\n",
       "</table>\n",
       "</div>"
      ],
      "text/plain": [
       "   x  y\n",
       "0  2  2\n",
       "1  3  3"
      ]
     },
     "execution_count": 4,
     "metadata": {
      "tags": []
     },
     "output_type": "execute_result"
    }
   ],
   "source": [
    "# Print the first 5 rows of df_test\n",
    "df_test.head()"
   ]
  },
  {
   "cell_type": "markdown",
   "metadata": {
    "colab_type": "text",
    "id": "iSdf967cpDRS"
   },
   "source": [
    "### Modeling"
   ]
  },
  {
   "cell_type": "code",
   "execution_count": 0,
   "metadata": {
    "colab": {
     "base_uri": "https://localhost:8080/",
     "height": 34
    },
    "colab_type": "code",
    "id": "i9NrnjpHqa_U",
    "outputId": "4d3b2b80-0579-4de8-9fd9-6f8f7a9194ed"
   },
   "outputs": [
    {
     "data": {
      "text/plain": [
       "1.0"
      ]
     },
     "execution_count": 5,
     "metadata": {
      "tags": []
     },
     "output_type": "execute_result"
    }
   ],
   "source": [
    "from sklearn.linear_model import LinearRegression\n",
    "\n",
    "# Build the model\n",
    "lr = LinearRegression()\n",
    "\n",
    "# Train the model\n",
    "lr.fit(df_train[['x']], df_train['y'])\n",
    "\n",
    "# Test the model\n",
    "lr.score(df_test[['x']], df_test['y'])"
   ]
  },
  {
   "cell_type": "markdown",
   "metadata": {
    "colab_type": "text",
    "id": "AZ33HGYpe_0m"
   },
   "source": [
    "## Deep Learning with TensorFlow"
   ]
  },
  {
   "cell_type": "markdown",
   "metadata": {
    "colab_type": "text",
    "id": "vFsLXHRPQGHH"
   },
   "source": [
    "### Loading data"
   ]
  },
  {
   "cell_type": "code",
   "execution_count": 0,
   "metadata": {
    "colab": {
     "base_uri": "https://localhost:8080/",
     "height": 68
    },
    "colab_type": "code",
    "id": "xz6yI6VZwKfP",
    "outputId": "8300968e-ce6e-4b0d-d768-087ae733722d"
   },
   "outputs": [
    {
     "name": "stdout",
     "output_type": "stream",
     "text": [
      "TensorFlow 2.x selected.\n",
      "Downloading data from https://storage.googleapis.com/tensorflow/tf-keras-datasets/mnist.npz\n",
      "11493376/11490434 [==============================] - 0s 0us/step\n"
     ]
    }
   ],
   "source": [
    "# The magic below allows us to use tensorflow version 2.x\n",
    "%tensorflow_version 2.x \n",
    "\n",
    "import tensorflow as tf\n",
    "from tensorflow import keras\n",
    "\n",
    "# Load the MNIST dataset from keras\n",
    "(X_train_full, y_train_full), (X_test, y_test) = keras.datasets.mnist.load_data()"
   ]
  },
  {
   "cell_type": "code",
   "execution_count": 0,
   "metadata": {
    "colab": {
     "base_uri": "https://localhost:8080/",
     "height": 34
    },
    "colab_type": "code",
    "id": "DuSgCDQULaCo",
    "outputId": "84b1747e-b6cd-4129-f71e-55e7dfd61f45"
   },
   "outputs": [
    {
     "data": {
      "text/plain": [
       "(60000, 28, 28)"
      ]
     },
     "execution_count": 7,
     "metadata": {
      "tags": []
     },
     "output_type": "execute_result"
    }
   ],
   "source": [
    "# Print the dimension of X_train_full\n",
    "X_train_full.shape"
   ]
  },
  {
   "cell_type": "code",
   "execution_count": 0,
   "metadata": {
    "colab": {
     "base_uri": "https://localhost:8080/",
     "height": 34
    },
    "colab_type": "code",
    "id": "n55QAv6SLjKO",
    "outputId": "3efec6d9-223b-4a2f-c79e-30cb4a927f5d"
   },
   "outputs": [
    {
     "data": {
      "text/plain": [
       "(10000, 28, 28)"
      ]
     },
     "execution_count": 8,
     "metadata": {
      "tags": []
     },
     "output_type": "execute_result"
    }
   ],
   "source": [
    "# Print the dimension of X_test\n",
    "X_test.shape"
   ]
  },
  {
   "cell_type": "markdown",
   "metadata": {
    "colab_type": "text",
    "id": "63n9_YIjLCGd"
   },
   "source": [
    "### Dividing the Training Data into Training and Validation"
   ]
  },
  {
   "cell_type": "code",
   "execution_count": 0,
   "metadata": {
    "colab": {},
    "colab_type": "code",
    "id": "SMPc7LiruU1k"
   },
   "outputs": [],
   "source": [
    "# Use the first 50000 samples for training and the last 10000 samples for validation\n",
    "X_train, X_valid = X_train_full[:50000], X_train_full[50000:]\n",
    "y_train, y_valid = y_train_full[:50000], y_train_full[50000:]"
   ]
  },
  {
   "cell_type": "markdown",
   "metadata": {
    "colab_type": "text",
    "id": "UIFcAuzfMl-g"
   },
   "source": [
    "### Standardizing the features"
   ]
  },
  {
   "cell_type": "code",
   "execution_count": 0,
   "metadata": {
    "colab": {},
    "colab_type": "code",
    "id": "6W1kgayMug8d"
   },
   "outputs": [],
   "source": [
    "X_train, X_valid, X_test = X_train / 255.0, X_valid / 255.0, X_test / 255.0"
   ]
  },
  {
   "cell_type": "markdown",
   "metadata": {
    "colab_type": "text",
    "id": "1TWHpAHAN7UI"
   },
   "source": [
    "### Modeling"
   ]
  },
  {
   "cell_type": "code",
   "execution_count": 0,
   "metadata": {
    "colab": {
     "base_uri": "https://localhost:8080/",
     "height": 255
    },
    "colab_type": "code",
    "id": "hPTWZGb8yu37",
    "outputId": "f78a1b1c-d2c7-4a4a-ebd8-012abc8338ee"
   },
   "outputs": [
    {
     "name": "stdout",
     "output_type": "stream",
     "text": [
      "Model: \"sequential\"\n",
      "_________________________________________________________________\n",
      "Layer (type)                 Output Shape              Param #   \n",
      "=================================================================\n",
      "flatten (Flatten)            (None, 784)               0         \n",
      "_________________________________________________________________\n",
      "dense (Dense)                (None, 100)               78500     \n",
      "_________________________________________________________________\n",
      "dense_1 (Dense)              (None, 10)                1010      \n",
      "=================================================================\n",
      "Total params: 79,510\n",
      "Trainable params: 79,510\n",
      "Non-trainable params: 0\n",
      "_________________________________________________________________\n"
     ]
    }
   ],
   "source": [
    "# Build the model\n",
    "model = keras.models.Sequential([\n",
    "    keras.layers.Flatten(input_shape=[28, 28]),\n",
    "    keras.layers.Dense(100, activation=\"relu\"),\n",
    "    keras.layers.Dense(10, activation=\"softmax\")\n",
    "])\n",
    "\n",
    "# Print the model summary\n",
    "model.summary()"
   ]
  },
  {
   "cell_type": "code",
   "execution_count": 0,
   "metadata": {
    "colab": {},
    "colab_type": "code",
    "id": "yoGYkR0R0BYz"
   },
   "outputs": [],
   "source": [
    "# Compile the model\n",
    "model.compile(loss=\"sparse_categorical_crossentropy\",\n",
    "              optimizer=\"Adam\",\n",
    "              metrics=[\"accuracy\"])"
   ]
  },
  {
   "cell_type": "code",
   "execution_count": 0,
   "metadata": {
    "colab": {},
    "colab_type": "code",
    "id": "otPTR1Ku4GIR"
   },
   "outputs": [],
   "source": [
    "import os\n",
    "\n",
    "# The absolute path of the current directory\n",
    "abspath = '/content/drive/My Drive/Colab Notebooks/teaching/gwu/machine_learning_I/google_colab_instruction/'\n",
    "\n",
    "# Make directory for model\n",
    "directory = os.path.dirname(abspath + 'model/')\n",
    "if not os.path.exists(directory):\n",
    "    os.makedirs(directory)"
   ]
  },
  {
   "cell_type": "code",
   "execution_count": 0,
   "metadata": {
    "colab": {},
    "colab_type": "code",
    "id": "HIGf9GJO2umK"
   },
   "outputs": [],
   "source": [
    "# Define the checkpoint callback\n",
    "checkpoint_cb = keras.callbacks.ModelCheckpoint(abspath + \"model/dnn.h5\",\n",
    "                                                save_best_only=True)\n",
    "\n",
    "# Define the early stopping callback\n",
    "early_stopping_cb = keras.callbacks.EarlyStopping(patience=10,\n",
    "                                                  restore_best_weights=True)"
   ]
  },
  {
   "cell_type": "code",
   "execution_count": 0,
   "metadata": {
    "colab": {
     "base_uri": "https://localhost:8080/",
     "height": 394
    },
    "colab_type": "code",
    "id": "psRIX19CSKRE",
    "outputId": "aad9f366-f3f4-460d-c0af-f4b98b28fa53"
   },
   "outputs": [
    {
     "name": "stdout",
     "output_type": "stream",
     "text": [
      "Train on 50000 samples, validate on 10000 samples\n",
      "Epoch 1/10\n",
      "50000/50000 [==============================] - 7s 144us/sample - loss: 0.2973 - accuracy: 0.9162 - val_loss: 0.1568 - val_accuracy: 0.9561\n",
      "Epoch 2/10\n",
      "50000/50000 [==============================] - 5s 104us/sample - loss: 0.1343 - accuracy: 0.9611 - val_loss: 0.1215 - val_accuracy: 0.9657\n",
      "Epoch 3/10\n",
      "50000/50000 [==============================] - 5s 98us/sample - loss: 0.0928 - accuracy: 0.9724 - val_loss: 0.0987 - val_accuracy: 0.9713\n",
      "Epoch 4/10\n",
      "50000/50000 [==============================] - 5s 97us/sample - loss: 0.0705 - accuracy: 0.9793 - val_loss: 0.0942 - val_accuracy: 0.9721\n",
      "Epoch 5/10\n",
      "50000/50000 [==============================] - 5s 96us/sample - loss: 0.0553 - accuracy: 0.9834 - val_loss: 0.0935 - val_accuracy: 0.9730\n",
      "Epoch 6/10\n",
      "50000/50000 [==============================] - 5s 95us/sample - loss: 0.0445 - accuracy: 0.9861 - val_loss: 0.0877 - val_accuracy: 0.9734\n",
      "Epoch 7/10\n",
      "50000/50000 [==============================] - 5s 102us/sample - loss: 0.0374 - accuracy: 0.9880 - val_loss: 0.0955 - val_accuracy: 0.9716\n",
      "Epoch 8/10\n",
      "50000/50000 [==============================] - 5s 96us/sample - loss: 0.0293 - accuracy: 0.9908 - val_loss: 0.0910 - val_accuracy: 0.9759\n",
      "Epoch 9/10\n",
      "50000/50000 [==============================] - 5s 110us/sample - loss: 0.0256 - accuracy: 0.9916 - val_loss: 0.0864 - val_accuracy: 0.9765\n",
      "Epoch 10/10\n",
      "50000/50000 [==============================] - 5s 94us/sample - loss: 0.0193 - accuracy: 0.9943 - val_loss: 0.0890 - val_accuracy: 0.9777\n"
     ]
    }
   ],
   "source": [
    "# Train the model\n",
    "history = model.fit(X_train, y_train, \n",
    "                    epochs=10,\n",
    "                    validation_data=(X_valid, y_valid),\n",
    "                    callbacks=[checkpoint_cb, early_stopping_cb])"
   ]
  },
  {
   "cell_type": "code",
   "execution_count": 0,
   "metadata": {
    "colab": {},
    "colab_type": "code",
    "id": "enLWrFVEIKNX"
   },
   "outputs": [],
   "source": [
    "# Load the saved model\n",
    "model = keras.models.load_model(abspath + \"model/dnn.h5\")"
   ]
  },
  {
   "cell_type": "code",
   "execution_count": 0,
   "metadata": {
    "colab": {
     "base_uri": "https://localhost:8080/",
     "height": 51
    },
    "colab_type": "code",
    "id": "RIPNFk-V32ca",
    "outputId": "818a9c20-9e08-4e76-a468-044b70ea6c3a"
   },
   "outputs": [
    {
     "name": "stdout",
     "output_type": "stream",
     "text": [
      "10000/10000 [==============================] - 1s 75us/sample - loss: 0.0797 - accuracy: 0.9763\n"
     ]
    },
    {
     "data": {
      "text/plain": [
       "[0.07969671700820036, 0.9763]"
      ]
     },
     "execution_count": 17,
     "metadata": {
      "tags": []
     },
     "output_type": "execute_result"
    }
   ],
   "source": [
    "# Test the saved model\n",
    "model.evaluate(X_test, y_test)"
   ]
  }
 ],
 "metadata": {
  "accelerator": "GPU",
  "colab": {
   "collapsed_sections": [],
   "name": "google_colab_instruction.ipynb",
   "provenance": [],
   "toc_visible": true
  },
  "kernelspec": {
   "display_name": "Python 3",
   "language": "python",
   "name": "python3"
  },
  "language_info": {
   "codemirror_mode": {
    "name": "ipython",
    "version": 3
   },
   "file_extension": ".py",
   "mimetype": "text/x-python",
   "name": "python",
   "nbconvert_exporter": "python",
   "pygments_lexer": "ipython3",
   "version": "3.7.6"
  },
  "toc": {
   "base_numbering": 1,
   "nav_menu": {},
   "number_sections": true,
   "sideBar": true,
   "skip_h1_title": false,
   "title_cell": "Table of Contents",
   "title_sidebar": "Contents",
   "toc_cell": true,
   "toc_position": {},
   "toc_section_display": true,
   "toc_window_display": false
  }
 },
 "nbformat": 4,
 "nbformat_minor": 1
}
