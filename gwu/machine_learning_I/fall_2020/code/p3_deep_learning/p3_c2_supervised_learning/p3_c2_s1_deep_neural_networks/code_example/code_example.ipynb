{
  "nbformat": 4,
  "nbformat_minor": 0,
  "metadata": {
    "accelerator": "GPU",
    "colab": {
      "name": "code_example.ipynb",
      "provenance": [],
      "collapsed_sections": []
    },
    "kernelspec": {
      "display_name": "Python 3",
      "language": "python",
      "name": "python3"
    },
    "language_info": {
      "codemirror_mode": {
        "name": "ipython",
        "version": 3
      },
      "file_extension": ".py",
      "mimetype": "text/x-python",
      "name": "python",
      "nbconvert_exporter": "python",
      "pygments_lexer": "ipython3",
      "version": "3.7.6"
    },
    "toc": {
      "base_numbering": 1,
      "nav_menu": {},
      "number_sections": true,
      "sideBar": true,
      "skip_h1_title": false,
      "title_cell": "Table of Contents",
      "title_sidebar": "Contents",
      "toc_cell": true,
      "toc_position": {},
      "toc_section_display": true,
      "toc_window_display": false
    }
  },
  "cells": [
    {
      "cell_type": "markdown",
      "metadata": {
        "id": "cMSn67px4ANI",
        "toc": true
      },
      "source": [
        "<h1>Table of Contents<span class=\"tocSkip\"></span></h1>\n",
        "<div class=\"toc\"><ul class=\"toc-item\"><li><span><a href=\"#Overview\" data-toc-modified-id=\"Overview-1\"><span class=\"toc-item-num\">1&nbsp;&nbsp;</span>Overview</a></span></li><li><span><a href=\"#Notebook-Configuration\" data-toc-modified-id=\"Notebook-Configuration-2\"><span class=\"toc-item-num\">2&nbsp;&nbsp;</span>Notebook Configuration</a></span><ul class=\"toc-item\"><li><span><a href=\"#Google-drive\" data-toc-modified-id=\"Google-drive-2.1\"><span class=\"toc-item-num\">2.1&nbsp;&nbsp;</span>Google drive</a></span></li><li><span><a href=\"#Warning\" data-toc-modified-id=\"Warning-2.2\"><span class=\"toc-item-num\">2.2&nbsp;&nbsp;</span>Warning</a></span></li><li><span><a href=\"#Matplotlib\" data-toc-modified-id=\"Matplotlib-2.3\"><span class=\"toc-item-num\">2.3&nbsp;&nbsp;</span>Matplotlib</a></span></li><li><span><a href=\"#TensorFlow\" data-toc-modified-id=\"TensorFlow-2.4\"><span class=\"toc-item-num\">2.4&nbsp;&nbsp;</span>TensorFlow</a></span></li><li><span><a href=\"#Random-seed\" data-toc-modified-id=\"Random-seed-2.5\"><span class=\"toc-item-num\">2.5&nbsp;&nbsp;</span>Random seed</a></span></li></ul></li><li><span><a href=\"#Data-Preprocessing\" data-toc-modified-id=\"Data-Preprocessing-3\"><span class=\"toc-item-num\">3&nbsp;&nbsp;</span>Data Preprocessing</a></span><ul class=\"toc-item\"><li><span><a href=\"#Loading-the-data\" data-toc-modified-id=\"Loading-the-data-3.1\"><span class=\"toc-item-num\">3.1&nbsp;&nbsp;</span>Loading the data</a></span><ul class=\"toc-item\"><li><span><a href=\"#Creating-the-directory-for-the-data\" data-toc-modified-id=\"Creating-the-directory-for-the-data-3.1.1\"><span class=\"toc-item-num\">3.1.1&nbsp;&nbsp;</span>Creating the directory for the data</a></span></li><li><span><a href=\"#Downloading-the-data-to-the-directory\" data-toc-modified-id=\"Downloading-the-data-to-the-directory-3.1.2\"><span class=\"toc-item-num\">3.1.2&nbsp;&nbsp;</span>Downloading the data to the directory</a></span></li></ul></li><li><span><a href=\"#Getting-the-name-of-the-target\" data-toc-modified-id=\"Getting-the-name-of-the-target-3.2\"><span class=\"toc-item-num\">3.2&nbsp;&nbsp;</span>Getting the name of the target</a></span></li><li><span><a href=\"#Getting-the-info\" data-toc-modified-id=\"Getting-the-info-3.3\"><span class=\"toc-item-num\">3.3&nbsp;&nbsp;</span>Getting the info</a></span></li><li><span><a href=\"#Getting-the-training,-validation-and-test-data\" data-toc-modified-id=\"Getting-the-training,-validation-and-test-data-3.4\"><span class=\"toc-item-num\">3.4&nbsp;&nbsp;</span>Getting the training, validation and test data</a></span></li><li><span><a href=\"#Normalizing-the-data\" data-toc-modified-id=\"Normalizing-the-data-3.5\"><span class=\"toc-item-num\">3.5&nbsp;&nbsp;</span>Normalizing the data</a></span></li><li><span><a href=\"#Shuffling,-batching-and-prefetching-the-data\" data-toc-modified-id=\"Shuffling,-batching-and-prefetching-the-data-3.6\"><span class=\"toc-item-num\">3.6&nbsp;&nbsp;</span>Shuffling, batching and prefetching the data</a></span></li></ul></li><li><span><a href=\"#Training-(Without-Callback)\" data-toc-modified-id=\"Training-(Without-Callback)-4\"><span class=\"toc-item-num\">4&nbsp;&nbsp;</span>Training (Without Callback)</a></span><ul class=\"toc-item\"><li><span><a href=\"#Building-the-model\" data-toc-modified-id=\"Building-the-model-4.1\"><span class=\"toc-item-num\">4.1&nbsp;&nbsp;</span>Building the model</a></span><ul class=\"toc-item\"><li><span><a href=\"#A-step-by-step-approach\" data-toc-modified-id=\"A-step-by-step-approach-4.1.1\"><span class=\"toc-item-num\">4.1.1&nbsp;&nbsp;</span>A step by step approach</a></span></li><li><span><a href=\"#A-one-step-approach\" data-toc-modified-id=\"A-one-step-approach-4.1.2\"><span class=\"toc-item-num\">4.1.2&nbsp;&nbsp;</span>A one step approach</a></span></li><li><span><a href=\"#The-model-summary\" data-toc-modified-id=\"The-model-summary-4.1.3\"><span class=\"toc-item-num\">4.1.3&nbsp;&nbsp;</span>The model summary</a></span></li></ul></li><li><span><a href=\"#Compiling-the-model\" data-toc-modified-id=\"Compiling-the-model-4.2\"><span class=\"toc-item-num\">4.2&nbsp;&nbsp;</span>Compiling the model</a></span></li><li><span><a href=\"#Training-the-model\" data-toc-modified-id=\"Training-the-model-4.3\"><span class=\"toc-item-num\">4.3&nbsp;&nbsp;</span>Training the model</a></span></li><li><span><a href=\"#Plotting-the-learning-curve\" data-toc-modified-id=\"Plotting-the-learning-curve-4.4\"><span class=\"toc-item-num\">4.4&nbsp;&nbsp;</span>Plotting the learning curve</a></span><ul class=\"toc-item\"><li><span><a href=\"#Creating-the-directory-for-the-figure\" data-toc-modified-id=\"Creating-the-directory-for-the-figure-4.4.1\"><span class=\"toc-item-num\">4.4.1&nbsp;&nbsp;</span>Creating the directory for the figure</a></span></li><li><span><a href=\"#Plotting-the-figure\" data-toc-modified-id=\"Plotting-the-figure-4.4.2\"><span class=\"toc-item-num\">4.4.2&nbsp;&nbsp;</span>Plotting the figure</a></span></li></ul></li><li><span><a href=\"#Continuing-training-the-model\" data-toc-modified-id=\"Continuing-training-the-model-4.5\"><span class=\"toc-item-num\">4.5&nbsp;&nbsp;</span>Continuing training the model</a></span></li><li><span><a href=\"#Plotting-the-learning-curve\" data-toc-modified-id=\"Plotting-the-learning-curve-4.6\"><span class=\"toc-item-num\">4.6&nbsp;&nbsp;</span>Plotting the learning curve</a></span></li></ul></li><li><span><a href=\"#Training-(With-ModelCheckpoint-callback-to-Save-the-Model)\" data-toc-modified-id=\"Training-(With-ModelCheckpoint-callback-to-Save-the-Model)-5\"><span class=\"toc-item-num\">5&nbsp;&nbsp;</span>Training (With ModelCheckpoint callback to Save the Model)</a></span><ul class=\"toc-item\"><li><span><a href=\"#Creating-the-directory-for-the-saved-model\" data-toc-modified-id=\"Creating-the-directory-for-the-saved-model-5.1\"><span class=\"toc-item-num\">5.1&nbsp;&nbsp;</span>Creating the directory for the saved model</a></span></li><li><span><a href=\"#Building-the-model\" data-toc-modified-id=\"Building-the-model-5.2\"><span class=\"toc-item-num\">5.2&nbsp;&nbsp;</span>Building the model</a></span></li><li><span><a href=\"#Compiling-the-model\" data-toc-modified-id=\"Compiling-the-model-5.3\"><span class=\"toc-item-num\">5.3&nbsp;&nbsp;</span>Compiling the model</a></span></li><li><span><a href=\"#Training-the-model\" data-toc-modified-id=\"Training-the-model-5.4\"><span class=\"toc-item-num\">5.4&nbsp;&nbsp;</span>Training the model</a></span><ul class=\"toc-item\"><li><span><a href=\"#Setting-callbacks\" data-toc-modified-id=\"Setting-callbacks-5.4.1\"><span class=\"toc-item-num\">5.4.1&nbsp;&nbsp;</span>Setting callbacks</a></span></li><li><span><a href=\"#Training,-evaluating-and-saving-the-model\" data-toc-modified-id=\"Training,-evaluating-and-saving-the-model-5.4.2\"><span class=\"toc-item-num\">5.4.2&nbsp;&nbsp;</span>Training, evaluating and saving the model</a></span></li></ul></li><li><span><a href=\"#Plotting-the-learning-curve\" data-toc-modified-id=\"Plotting-the-learning-curve-5.5\"><span class=\"toc-item-num\">5.5&nbsp;&nbsp;</span>Plotting the learning curve</a></span></li><li><span><a href=\"#Loading-the-saved-model\" data-toc-modified-id=\"Loading-the-saved-model-5.6\"><span class=\"toc-item-num\">5.6&nbsp;&nbsp;</span>Loading the saved model</a></span></li><li><span><a href=\"#Continuing-training-the-model\" data-toc-modified-id=\"Continuing-training-the-model-5.7\"><span class=\"toc-item-num\">5.7&nbsp;&nbsp;</span>Continuing training the model</a></span></li><li><span><a href=\"#Plotting-the-learning-curve\" data-toc-modified-id=\"Plotting-the-learning-curve-5.8\"><span class=\"toc-item-num\">5.8&nbsp;&nbsp;</span>Plotting the learning curve</a></span></li></ul></li><li><span><a href=\"#Training-(With-ModelCheckpoint-callback-to-Save-the-Best-Model)\" data-toc-modified-id=\"Training-(With-ModelCheckpoint-callback-to-Save-the-Best-Model)-6\"><span class=\"toc-item-num\">6&nbsp;&nbsp;</span>Training (With ModelCheckpoint callback to Save the Best Model)</a></span><ul class=\"toc-item\"><li><span><a href=\"#Building-the-model\" data-toc-modified-id=\"Building-the-model-6.1\"><span class=\"toc-item-num\">6.1&nbsp;&nbsp;</span>Building the model</a></span></li><li><span><a href=\"#Compiling-the-model\" data-toc-modified-id=\"Compiling-the-model-6.2\"><span class=\"toc-item-num\">6.2&nbsp;&nbsp;</span>Compiling the model</a></span></li><li><span><a href=\"#Training-the-model\" data-toc-modified-id=\"Training-the-model-6.3\"><span class=\"toc-item-num\">6.3&nbsp;&nbsp;</span>Training the model</a></span><ul class=\"toc-item\"><li><span><a href=\"#Setting-callbacks\" data-toc-modified-id=\"Setting-callbacks-6.3.1\"><span class=\"toc-item-num\">6.3.1&nbsp;&nbsp;</span>Setting callbacks</a></span></li><li><span><a href=\"#Training,-evaluating-and-saving-the-best-model\" data-toc-modified-id=\"Training,-evaluating-and-saving-the-best-model-6.3.2\"><span class=\"toc-item-num\">6.3.2&nbsp;&nbsp;</span>Training, evaluating and saving the best model</a></span></li></ul></li><li><span><a href=\"#Plotting-the-learning-curve\" data-toc-modified-id=\"Plotting-the-learning-curve-6.4\"><span class=\"toc-item-num\">6.4&nbsp;&nbsp;</span>Plotting the learning curve</a></span></li></ul></li><li><span><a href=\"#Training-(With-ModelCheckpoint-and-EarlyStopping)\" data-toc-modified-id=\"Training-(With-ModelCheckpoint-and-EarlyStopping)-7\"><span class=\"toc-item-num\">7&nbsp;&nbsp;</span>Training (With ModelCheckpoint and EarlyStopping)</a></span><ul class=\"toc-item\"><li><span><a href=\"#Building-the-model\" data-toc-modified-id=\"Building-the-model-7.1\"><span class=\"toc-item-num\">7.1&nbsp;&nbsp;</span>Building the model</a></span></li><li><span><a href=\"#Compiling-the-model\" data-toc-modified-id=\"Compiling-the-model-7.2\"><span class=\"toc-item-num\">7.2&nbsp;&nbsp;</span>Compiling the model</a></span></li><li><span><a href=\"#Training-the-model\" data-toc-modified-id=\"Training-the-model-7.3\"><span class=\"toc-item-num\">7.3&nbsp;&nbsp;</span>Training the model</a></span><ul class=\"toc-item\"><li><span><a href=\"#Setting-callbacks\" data-toc-modified-id=\"Setting-callbacks-7.3.1\"><span class=\"toc-item-num\">7.3.1&nbsp;&nbsp;</span>Setting callbacks</a></span></li><li><span><a href=\"#Training,-evaluating-and-saving-the-best-model\" data-toc-modified-id=\"Training,-evaluating-and-saving-the-best-model-7.3.2\"><span class=\"toc-item-num\">7.3.2&nbsp;&nbsp;</span>Training, evaluating and saving the best model</a></span></li></ul></li><li><span><a href=\"#Plotting-the-learning-curve\" data-toc-modified-id=\"Plotting-the-learning-curve-7.4\"><span class=\"toc-item-num\">7.4&nbsp;&nbsp;</span>Plotting the learning curve</a></span></li></ul></li><li><span><a href=\"#Testing-the-Best-Model\" data-toc-modified-id=\"Testing-the-Best-Model-8\"><span class=\"toc-item-num\">8&nbsp;&nbsp;</span>Testing the Best Model</a></span><ul class=\"toc-item\"><li><span><a href=\"#Loading-the-saved-model\" data-toc-modified-id=\"Loading-the-saved-model-8.1\"><span class=\"toc-item-num\">8.1&nbsp;&nbsp;</span>Loading the saved model</a></span></li><li><span><a href=\"#Evaluating-the-model\" data-toc-modified-id=\"Evaluating-the-model-8.2\"><span class=\"toc-item-num\">8.2&nbsp;&nbsp;</span>Evaluating the model</a></span></li></ul></li></ul></div>"
      ]
    },
    {
      "cell_type": "markdown",
      "metadata": {
        "id": "42yc1zUrzlEh"
      },
      "source": [
        "<b>\n",
        "<p>\n",
        "<center>\n",
        "<font size=\"5\">\n",
        "Popular Machine Learning Methods: Idea, Practice and Math\n",
        "</font>\n",
        "</center>\n",
        "</p>\n",
        "\n",
        "<p>\n",
        "<center>\n",
        "<font size=\"4\">\n",
        "Part 3, Chapter 2, Section 1: Deep Neural Networks\n",
        "</font>\n",
        "</center>\n",
        "</p>\n",
        "    \n",
        "<p>\n",
        "<center>\n",
        "<font size=\"4\">\n",
        "Code Example: Fashion-MNIST Dataset\n",
        "</font>\n",
        "</center>\n",
        "</p>\n",
        "\n",
        "<p>\n",
        "<center>\n",
        "<font size=\"3\">\n",
        "Data Science, Columbian College of Arts & Sciences, George Washington University\n",
        "</font>\n",
        "</center>\n",
        "</p>\n",
        "\n",
        "<p>\n",
        "<center>\n",
        "<font size=\"3\">\n",
        "Yuxiao Huang\n",
        "</font>\n",
        "</center>\n",
        "</p>\n",
        "</b>"
      ]
    },
    {
      "cell_type": "markdown",
      "metadata": {
        "id": "rT2SKHw2zlEi"
      },
      "source": [
        "# Overview"
      ]
    },
    {
      "cell_type": "markdown",
      "metadata": {
        "id": "asZWLrJKzlEj"
      },
      "source": [
        "- This notebook includes the code example for Deep Neural Networks (Part 3, Chapter 2, Section 1).\n",
        "- See the accompanied slides in our [github repository](https://github.com/yuxiaohuang/teaching/tree/master/gwu/machine_learning_I/fall_2020/slides/p3_deep_learning/p3_c2_supervised_learning/p3_c2_s1_deep_neural_networks)."
      ]
    },
    {
      "cell_type": "markdown",
      "metadata": {
        "id": "WJ-IbZqAgILJ"
      },
      "source": [
        "# Notebook Configuration"
      ]
    },
    {
      "cell_type": "markdown",
      "metadata": {
        "id": "H3yB94KtgMHu"
      },
      "source": [
        "## Google drive"
      ]
    },
    {
      "cell_type": "code",
      "metadata": {
        "id": "jWmYBTOwgNs-",
        "scrolled": true,
        "outputId": "6b90e637-4ccd-4051-c20c-42a5d1f44532",
        "colab": {
          "base_uri": "https://localhost:8080/"
        }
      },
      "source": [
        "from google.colab import drive\n",
        "import sys\n",
        "\n",
        "# Mount Google Drive\n",
        "drive.mount('/content/drive')\n",
        "\n",
        "# Get the absolute path of the current folder\n",
        "abspath_curr = '/content/drive/My Drive/Colab Notebooks/teaching/gwu/machine_learning_I/code/p3_deep_learning/p3_c2_supervised_learning/p3_c2_s1_deep_neural_networks/code_example/'\n",
        "\n",
        "# Get the absolute path of the deep utilities folder\n",
        "abspath_util_deep = '/content/drive/My Drive/Colab Notebooks/teaching/gwu/machine_learning_I/code/utilities/p3_deep_learning/'"
      ],
      "execution_count": 1,
      "outputs": [
        {
          "output_type": "stream",
          "text": [
            "Mounted at /content/drive\n"
          ],
          "name": "stdout"
        }
      ]
    },
    {
      "cell_type": "markdown",
      "metadata": {
        "id": "bYZhU1Wqgmqx"
      },
      "source": [
        "## Warning"
      ]
    },
    {
      "cell_type": "code",
      "metadata": {
        "id": "MUl4k83e4ANR"
      },
      "source": [
        "import warnings\n",
        "\n",
        "# Ignore warnings\n",
        "warnings.filterwarnings('ignore')"
      ],
      "execution_count": 2,
      "outputs": []
    },
    {
      "cell_type": "markdown",
      "metadata": {
        "id": "6WMODpPfgn2U"
      },
      "source": [
        "## Matplotlib"
      ]
    },
    {
      "cell_type": "code",
      "metadata": {
        "id": "DBRVH9SB4ANb"
      },
      "source": [
        "import matplotlib.pyplot as plt\n",
        "%matplotlib inline \n",
        "\n",
        "# Set matplotlib sizes\n",
        "plt.rc('font', size=20)\n",
        "plt.rc('axes', titlesize=20)\n",
        "plt.rc('axes', labelsize=20)\n",
        "plt.rc('xtick', labelsize=20)\n",
        "plt.rc('ytick', labelsize=20)\n",
        "plt.rc('legend', fontsize=20)\n",
        "plt.rc('figure', titlesize=20)"
      ],
      "execution_count": 3,
      "outputs": []
    },
    {
      "cell_type": "markdown",
      "metadata": {
        "id": "n-wNDk5nZhhO"
      },
      "source": [
        "## TensorFlow"
      ]
    },
    {
      "cell_type": "code",
      "metadata": {
        "id": "LjG43tEnZkfE"
      },
      "source": [
        "# The magic below allows us to use tensorflow version 2.x\n",
        "%tensorflow_version 2.x \n",
        "import tensorflow as tf\n",
        "from tensorflow import keras"
      ],
      "execution_count": 4,
      "outputs": []
    },
    {
      "cell_type": "markdown",
      "metadata": {
        "id": "40FN3UNfO2Z7"
      },
      "source": [
        "## Random seed"
      ]
    },
    {
      "cell_type": "code",
      "metadata": {
        "id": "uSADk0hJP71d"
      },
      "source": [
        "# The random seed\n",
        "random_seed = 42\n",
        "\n",
        "# Set random seed in tensorflow\n",
        "tf.random.set_seed(random_seed)\n",
        "\n",
        "# Set random seed in numpy\n",
        "import numpy as np\n",
        "np.random.seed(random_seed)"
      ],
      "execution_count": 5,
      "outputs": []
    },
    {
      "cell_type": "markdown",
      "metadata": {
        "id": "1eOpQpPu4ANk"
      },
      "source": [
        "# Data Preprocessing"
      ]
    },
    {
      "cell_type": "code",
      "metadata": {
        "id": "D-Mwc6MczlFD",
        "outputId": "1513fd35-7dcd-43a9-ed68-2da9b3178ab6",
        "colab": {
          "base_uri": "https://localhost:8080/"
        }
      },
      "source": [
        "# Change working directory to the absolute path of the deep utilities folder\n",
        "%cd $abspath_util_deep\n",
        "\n",
        "# Import the deep utitilities\n",
        "%run pmlm_utilities_deep.ipynb"
      ],
      "execution_count": 6,
      "outputs": [
        {
          "output_type": "stream",
          "text": [
            "/content/drive/My Drive/Colab Notebooks/teaching/gwu/machine_learning_I/code/utilities/p3_deep_learning\n"
          ],
          "name": "stdout"
        }
      ]
    },
    {
      "cell_type": "markdown",
      "metadata": {
        "id": "xnJAfR784ANl"
      },
      "source": [
        "## Loading the data"
      ]
    },
    {
      "cell_type": "markdown",
      "metadata": {
        "id": "LM_WKAmO4ANm"
      },
      "source": [
        "In this code example, we will work on the [Fashion-MNIST dataset](https://www.tensorflow.org/datasets/catalog/fashion_mnist)."
      ]
    },
    {
      "cell_type": "markdown",
      "metadata": {
        "id": "IEjvHlLB8X0z"
      },
      "source": [
        "### Creating the directory for the data"
      ]
    },
    {
      "cell_type": "code",
      "metadata": {
        "id": "reijpcaf8UgO"
      },
      "source": [
        "import os\n",
        "\n",
        "# Make directory\n",
        "directory = os.path.dirname(abspath_curr + '/data/')\n",
        "if not os.path.exists(directory):\n",
        "    os.makedirs(directory)"
      ],
      "execution_count": 7,
      "outputs": []
    },
    {
      "cell_type": "markdown",
      "metadata": {
        "id": "-sDdbhok2i7C"
      },
      "source": [
        "### Downloading the data to the directory"
      ]
    },
    {
      "cell_type": "code",
      "metadata": {
        "id": "6onKpDeL4ANn",
        "scrolled": true
      },
      "source": [
        "import tensorflow_datasets as tfds\n",
        "\n",
        "# Get the name of the data\n",
        "data_name = 'fashion_mnist'\n",
        "\n",
        "# Load data\n",
        "data, info = tfds.load(name=data_name,\n",
        "                       data_dir=abspath_curr + '/data/',\n",
        "                       as_supervised=True,\n",
        "                       with_info=True)"
      ],
      "execution_count": 8,
      "outputs": []
    },
    {
      "cell_type": "markdown",
      "metadata": {
        "id": "yvIqSuZUVBb8"
      },
      "source": [
        "## Getting the name of the target"
      ]
    },
    {
      "cell_type": "code",
      "metadata": {
        "id": "AF5gbpOWVElL"
      },
      "source": [
        "target = 'label'"
      ],
      "execution_count": 9,
      "outputs": []
    },
    {
      "cell_type": "markdown",
      "metadata": {
        "id": "ugddFhUgVGWq"
      },
      "source": [
        "## Getting the info"
      ]
    },
    {
      "cell_type": "code",
      "metadata": {
        "id": "A85zWEqMjP5E",
        "outputId": "23e2d689-0c15-4d0e-fdf2-37687872ea9e",
        "colab": {
          "base_uri": "https://localhost:8080/"
        }
      },
      "source": [
        "# Print the splits\n",
        "info.splits"
      ],
      "execution_count": 10,
      "outputs": [
        {
          "output_type": "execute_result",
          "data": {
            "text/plain": [
              "{'test': <tfds.core.SplitInfo num_examples=10000>,\n",
              " 'train': <tfds.core.SplitInfo num_examples=60000>}"
            ]
          },
          "metadata": {
            "tags": []
          },
          "execution_count": 10
        }
      ]
    },
    {
      "cell_type": "code",
      "metadata": {
        "id": "vsSHR38vjL1G",
        "outputId": "e0645e2e-b787-4a56-ccc2-46d78b417350",
        "colab": {
          "base_uri": "https://localhost:8080/"
        }
      },
      "source": [
        "# Get the classes\n",
        "classes = info.features['label'].names\n",
        "\n",
        "# Print the classes\n",
        "classes"
      ],
      "execution_count": 11,
      "outputs": [
        {
          "output_type": "execute_result",
          "data": {
            "text/plain": [
              "['T-shirt/top',\n",
              " 'Trouser',\n",
              " 'Pullover',\n",
              " 'Dress',\n",
              " 'Coat',\n",
              " 'Sandal',\n",
              " 'Shirt',\n",
              " 'Sneaker',\n",
              " 'Bag',\n",
              " 'Ankle boot']"
            ]
          },
          "metadata": {
            "tags": []
          },
          "execution_count": 11
        }
      ]
    },
    {
      "cell_type": "code",
      "metadata": {
        "id": "hD0wa74kS_53",
        "outputId": "26c9094e-2afe-45cb-bfd7-da082897e367",
        "colab": {
          "base_uri": "https://localhost:8080/"
        }
      },
      "source": [
        "# Get the number of classes\n",
        "n_classes = info.features['label'].num_classes\n",
        "\n",
        "# Print the number of classes\n",
        "info.features['label'].num_classes"
      ],
      "execution_count": 12,
      "outputs": [
        {
          "output_type": "execute_result",
          "data": {
            "text/plain": [
              "10"
            ]
          },
          "metadata": {
            "tags": []
          },
          "execution_count": 12
        }
      ]
    },
    {
      "cell_type": "markdown",
      "metadata": {
        "id": "jGLoCbmO4AN9"
      },
      "source": [
        "## Getting the training, validation and test data"
      ]
    },
    {
      "cell_type": "code",
      "metadata": {
        "id": "a2P4L1vS4AN_"
      },
      "source": [
        "# Set the training, validation and test split\n",
        "split_train, split_valid, split_test = 'train[:70%]', 'train[70%:]', 'test'\n",
        "\n",
        "# Get the training data\n",
        "data_train = tfds.load(name=data_name,\n",
        "                       split=split_train,\n",
        "                       data_dir=abspath_curr + '/data/',\n",
        "                       as_supervised=True)\n",
        "\n",
        "# Get the validation data\n",
        "data_valid = tfds.load(name=data_name,\n",
        "                       split=split_valid,\n",
        "                       data_dir=abspath_curr + '/data/',\n",
        "                       as_supervised=True)\n",
        "\n",
        "# Get the test data\n",
        "data_test = tfds.load(name=data_name,\n",
        "                      split=split_test,\n",
        "                      data_dir=abspath_curr + '/data/',\n",
        "                      as_supervised=True)"
      ],
      "execution_count": 13,
      "outputs": []
    },
    {
      "cell_type": "markdown",
      "metadata": {
        "id": "sZUSCJjyXxYE"
      },
      "source": [
        "## Normalizing the data"
      ]
    },
    {
      "cell_type": "code",
      "metadata": {
        "id": "CfV6k87Ihz_u"
      },
      "source": [
        "# Call preprocess\n",
        "# See the implementation in pmlm_utilities_deep.ipynb\n",
        "\n",
        "# Preprocess the training data\n",
        "data_train = data_train.map(preprocess)\n",
        "\n",
        "# Preprocess the validation data\n",
        "data_valid = data_valid.map(preprocess)\n",
        "\n",
        "# Preprocess the test data\n",
        "data_test = data_test.map(preprocess)"
      ],
      "execution_count": 14,
      "outputs": []
    },
    {
      "cell_type": "markdown",
      "metadata": {
        "id": "e9oPQZ7limeD"
      },
      "source": [
        "## Shuffling, batching and prefetching the data"
      ]
    },
    {
      "cell_type": "code",
      "metadata": {
        "id": "p95Fq3PFbaAL"
      },
      "source": [
        "# Shuffling the training data\n",
        "data_train = data_train.shuffle(buffer_size=1000, seed=42)\n",
        "\n",
        "# Set the batch size\n",
        "batch_size = 16\n",
        "\n",
        "# Batch and prefetch the training data\n",
        "data_train = data_train.batch(batch_size).prefetch(1)\n",
        "\n",
        "# Batch and prefetch the validation data\n",
        "data_valid = data_valid.batch(batch_size).prefetch(1)\n",
        "\n",
        "# Batch and prefetch the test data\n",
        "data_test = data_test.batch(batch_size).prefetch(1)"
      ],
      "execution_count": 15,
      "outputs": []
    },
    {
      "cell_type": "markdown",
      "metadata": {
        "id": "rMLlv9xK4AO9"
      },
      "source": [
        "# Training (Without Callback)"
      ]
    },
    {
      "cell_type": "markdown",
      "metadata": {
        "id": "tadOFNHsaCCj"
      },
      "source": [
        "## Building the model"
      ]
    },
    {
      "cell_type": "markdown",
      "metadata": {
        "id": "MrmKev8JaBXc"
      },
      "source": [
        " ### A step by step approach"
      ]
    },
    {
      "cell_type": "code",
      "metadata": {
        "id": "lYq-8ZYia_dL"
      },
      "source": [
        "# A sequential dnn\n",
        "model = keras.models.Sequential()\n",
        "\n",
        "# Add the input layer\n",
        "model.add(keras.layers.Flatten(input_shape=[28, 28]))\n",
        "\n",
        "# Add two hidden layers\n",
        "model.add(keras.layers.Dense(50, activation='relu'))\n",
        "model.add(keras.layers.Dense(50, activation='relu'))\n",
        "\n",
        "# Add the output layer\n",
        "model.add(keras.layers.Dense(10, activation='softmax'))"
      ],
      "execution_count": 16,
      "outputs": []
    },
    {
      "cell_type": "markdown",
      "metadata": {
        "id": "wZ88p-q4bC_5"
      },
      "source": [
        "### A one step approach"
      ]
    },
    {
      "cell_type": "code",
      "metadata": {
        "id": "aA-szs5vbE1o"
      },
      "source": [
        "# A sequential dnn with two hidden layers\n",
        "model = keras.models.Sequential([keras.layers.Flatten(input_shape=[28, 28]),\n",
        "                                 keras.layers.Dense(50, activation='relu'),\n",
        "                                 keras.layers.Dense(50, activation='relu'),\n",
        "                                 keras.layers.Dense(10, activation='softmax')])"
      ],
      "execution_count": 17,
      "outputs": []
    },
    {
      "cell_type": "markdown",
      "metadata": {
        "id": "WH5LCcCvbNsM"
      },
      "source": [
        "### The model summary"
      ]
    },
    {
      "cell_type": "code",
      "metadata": {
        "id": "Nd37DOGLaAa6",
        "outputId": "dc65588d-6fe7-412e-992a-77bc2a66918d",
        "colab": {
          "base_uri": "https://localhost:8080/"
        }
      },
      "source": [
        "model.summary()"
      ],
      "execution_count": 18,
      "outputs": [
        {
          "output_type": "stream",
          "text": [
            "Model: \"sequential_1\"\n",
            "_________________________________________________________________\n",
            "Layer (type)                 Output Shape              Param #   \n",
            "=================================================================\n",
            "flatten_1 (Flatten)          (None, 784)               0         \n",
            "_________________________________________________________________\n",
            "dense_3 (Dense)              (None, 50)                39250     \n",
            "_________________________________________________________________\n",
            "dense_4 (Dense)              (None, 50)                2550      \n",
            "_________________________________________________________________\n",
            "dense_5 (Dense)              (None, 10)                510       \n",
            "=================================================================\n",
            "Total params: 42,310\n",
            "Trainable params: 42,310\n",
            "Non-trainable params: 0\n",
            "_________________________________________________________________\n"
          ],
          "name": "stdout"
        }
      ]
    },
    {
      "cell_type": "markdown",
      "metadata": {
        "id": "iGISytqvZ_C0"
      },
      "source": [
        "## Compiling the model"
      ]
    },
    {
      "cell_type": "code",
      "metadata": {
        "id": "aaMjBK2kZ-WX"
      },
      "source": [
        "# Compile the model\n",
        "model.compile(optimizer=keras.optimizers.SGD(),\n",
        "              loss='sparse_categorical_crossentropy',\n",
        "              metrics=['accuracy'])"
      ],
      "execution_count": 19,
      "outputs": []
    },
    {
      "cell_type": "markdown",
      "metadata": {
        "id": "ba6nZQcO7Wjv"
      },
      "source": [
        "## Training the model"
      ]
    },
    {
      "cell_type": "code",
      "metadata": {
        "id": "WPC7Obrq7ZDy",
        "outputId": "015e7cd8-03c2-4401-8c81-6f8b9775dbf0",
        "colab": {
          "base_uri": "https://localhost:8080/"
        }
      },
      "source": [
        "# Train and evaluate the model\n",
        "history = model.fit(data_train,\n",
        "                    epochs=10,\n",
        "                    validation_data=data_valid)"
      ],
      "execution_count": 20,
      "outputs": [
        {
          "output_type": "stream",
          "text": [
            "Epoch 1/10\n",
            "2625/2625 [==============================] - 12s 5ms/step - loss: 0.7334 - accuracy: 0.7470 - val_loss: 0.5248 - val_accuracy: 0.8157\n",
            "Epoch 2/10\n",
            "2625/2625 [==============================] - 8s 3ms/step - loss: 0.5011 - accuracy: 0.8226 - val_loss: 0.4743 - val_accuracy: 0.8341\n",
            "Epoch 3/10\n",
            "2625/2625 [==============================] - 8s 3ms/step - loss: 0.4515 - accuracy: 0.8405 - val_loss: 0.4360 - val_accuracy: 0.8466\n",
            "Epoch 4/10\n",
            "2625/2625 [==============================] - 8s 3ms/step - loss: 0.4231 - accuracy: 0.8510 - val_loss: 0.4171 - val_accuracy: 0.8518\n",
            "Epoch 5/10\n",
            "2625/2625 [==============================] - 8s 3ms/step - loss: 0.4003 - accuracy: 0.8580 - val_loss: 0.3939 - val_accuracy: 0.8581\n",
            "Epoch 6/10\n",
            "2625/2625 [==============================] - 8s 3ms/step - loss: 0.3849 - accuracy: 0.8650 - val_loss: 0.3808 - val_accuracy: 0.8635\n",
            "Epoch 7/10\n",
            "2625/2625 [==============================] - 8s 3ms/step - loss: 0.3713 - accuracy: 0.8678 - val_loss: 0.3800 - val_accuracy: 0.8610\n",
            "Epoch 8/10\n",
            "2625/2625 [==============================] - 8s 3ms/step - loss: 0.3609 - accuracy: 0.8705 - val_loss: 0.3740 - val_accuracy: 0.8656\n",
            "Epoch 9/10\n",
            "2625/2625 [==============================] - 8s 3ms/step - loss: 0.3490 - accuracy: 0.8762 - val_loss: 0.3680 - val_accuracy: 0.8662\n",
            "Epoch 10/10\n",
            "2625/2625 [==============================] - 8s 3ms/step - loss: 0.3411 - accuracy: 0.8783 - val_loss: 0.3548 - val_accuracy: 0.8726\n"
          ],
          "name": "stdout"
        }
      ]
    },
    {
      "cell_type": "markdown",
      "metadata": {
        "id": "kNN6M5wH7vis"
      },
      "source": [
        "## Plotting the learning curve"
      ]
    },
    {
      "cell_type": "markdown",
      "metadata": {
        "id": "YXGVkBFl78Cr"
      },
      "source": [
        "### Creating the directory for the figure"
      ]
    },
    {
      "cell_type": "code",
      "metadata": {
        "id": "96NjNOfw7xK3"
      },
      "source": [
        "# Make directory\n",
        "directory = os.path.dirname(abspath_curr + '/result/figure/')\n",
        "if not os.path.exists(directory):\n",
        "    os.makedirs(directory)"
      ],
      "execution_count": 21,
      "outputs": []
    },
    {
      "cell_type": "markdown",
      "metadata": {
        "id": "MAg4LlUjb1Uz"
      },
      "source": [
        "### Plotting the figure"
      ]
    },
    {
      "cell_type": "code",
      "metadata": {
        "id": "-1AWpDxk8fqM",
        "outputId": "41c9504e-e59c-4f3d-a64b-475ead3bc0f7",
        "colab": {
          "base_uri": "https://localhost:8080/",
          "height": 348
        }
      },
      "source": [
        "import pandas as pd\n",
        "\n",
        "# Create a figure\n",
        "pd.DataFrame(history.history).plot(figsize=(8, 5))\n",
        "\n",
        "# Save and show the figure\n",
        "plt.tight_layout()\n",
        "plt.savefig(abspath_curr + '/result/figure/learning_curve_without_callback_10.pdf')\n",
        "plt.show()"
      ],
      "execution_count": 22,
      "outputs": [
        {
          "output_type": "display_data",
          "data": {
            "image/png": "[encoded data removed]",
            "text/plain": [
              "<Figure size 576x360 with 1 Axes>"
            ]
          },
          "metadata": {
            "tags": [],
            "needs_background": "light"
          }
        }
      ]
    },
    {
      "cell_type": "markdown",
      "metadata": {
        "id": "M-1Zj2vO9DyX"
      },
      "source": [
        "## Continuing training the model"
      ]
    },
    {
      "cell_type": "code",
      "metadata": {
        "id": "snUBjSrq9RhL",
        "outputId": "e56100c8-d998-4013-bc1a-6ef1e2f7198f",
        "colab": {
          "base_uri": "https://localhost:8080/"
        }
      },
      "source": [
        "# Train and evaluate the model\n",
        "history = model.fit(data_train,\n",
        "                    epochs=5,\n",
        "                    validation_data=data_valid)"
      ],
      "execution_count": 23,
      "outputs": [
        {
          "output_type": "stream",
          "text": [
            "Epoch 1/5\n",
            "2625/2625 [==============================] - 8s 3ms/step - loss: 0.3319 - accuracy: 0.8822 - val_loss: 0.3540 - val_accuracy: 0.8701\n",
            "Epoch 2/5\n",
            "2625/2625 [==============================] - 8s 3ms/step - loss: 0.3244 - accuracy: 0.8839 - val_loss: 0.3597 - val_accuracy: 0.8695\n",
            "Epoch 3/5\n",
            "2625/2625 [==============================] - 8s 3ms/step - loss: 0.3171 - accuracy: 0.8850 - val_loss: 0.3420 - val_accuracy: 0.8772\n",
            "Epoch 4/5\n",
            "2625/2625 [==============================] - 8s 3ms/step - loss: 0.3112 - accuracy: 0.8867 - val_loss: 0.3489 - val_accuracy: 0.8726\n",
            "Epoch 5/5\n",
            "2625/2625 [==============================] - 8s 3ms/step - loss: 0.3056 - accuracy: 0.8902 - val_loss: 0.3451 - val_accuracy: 0.8745\n"
          ],
          "name": "stdout"
        }
      ]
    },
    {
      "cell_type": "markdown",
      "metadata": {
        "id": "FVHoHUQX9X6C"
      },
      "source": [
        "## Plotting the learning curve"
      ]
    },
    {
      "cell_type": "code",
      "metadata": {
        "id": "RpO4aqUU9gZ2",
        "outputId": "fd4e8d28-ca84-4045-eb12-543385b8eb49",
        "colab": {
          "base_uri": "https://localhost:8080/",
          "height": 348
        }
      },
      "source": [
        "# Create a figure\n",
        "pd.DataFrame(history.history).plot(figsize=(8, 5))\n",
        "\n",
        "# Save and show the figure\n",
        "plt.tight_layout()\n",
        "plt.savefig(abspath_curr + '/result/figure/learning_curve_without_callback_10_20.pdf')\n",
        "plt.show()"
      ],
      "execution_count": 24,
      "outputs": [
        {
          "output_type": "display_data",
          "data": {
            "image/png": "[encoded data removed]",
            "text/plain": [
              "<Figure size 576x360 with 1 Axes>"
            ]
          },
          "metadata": {
            "tags": [],
            "needs_background": "light"
          }
        }
      ]
    },
    {
      "cell_type": "markdown",
      "metadata": {
        "id": "YddKUU4Y9j7w"
      },
      "source": [
        "# Training (With ModelCheckpoint callback to Save the Model)"
      ]
    },
    {
      "cell_type": "markdown",
      "metadata": {
        "id": "Bgnj4lj3cUCt"
      },
      "source": [
        "## Creating the directory for the saved model"
      ]
    },
    {
      "cell_type": "code",
      "metadata": {
        "id": "mL8IheVrcVWh"
      },
      "source": [
        "# Make directory\n",
        "directory = os.path.dirname(abspath_curr + '/result/model/')\n",
        "if not os.path.exists(directory):\n",
        "    os.makedirs(directory)"
      ],
      "execution_count": 25,
      "outputs": []
    },
    {
      "cell_type": "markdown",
      "metadata": {
        "id": "MZXkv8srb1IS"
      },
      "source": [
        "## Building the model"
      ]
    },
    {
      "cell_type": "code",
      "metadata": {
        "id": "aIR5sQVsb5Yh",
        "outputId": "be578abd-b6a5-4dd0-907e-f03ae2e955c6",
        "colab": {
          "base_uri": "https://localhost:8080/"
        }
      },
      "source": [
        "# A sequential dnn\n",
        "model = keras.models.Sequential()\n",
        "\n",
        "# Add the input layer\n",
        "model.add(keras.layers.Flatten(input_shape=[28, 28]))\n",
        "\n",
        "# Add two hidden layers\n",
        "model.add(keras.layers.Dense(50, activation='relu'))\n",
        "model.add(keras.layers.Dense(50, activation='relu'))\n",
        "\n",
        "# Add the output layer\n",
        "model.add(keras.layers.Dense(10, activation='softmax'))\n",
        "\n",
        "# The model summary\n",
        "model.summary()"
      ],
      "execution_count": 26,
      "outputs": [
        {
          "output_type": "stream",
          "text": [
            "Model: \"sequential_2\"\n",
            "_________________________________________________________________\n",
            "Layer (type)                 Output Shape              Param #   \n",
            "=================================================================\n",
            "flatten_2 (Flatten)          (None, 784)               0         \n",
            "_________________________________________________________________\n",
            "dense_6 (Dense)              (None, 50)                39250     \n",
            "_________________________________________________________________\n",
            "dense_7 (Dense)              (None, 50)                2550      \n",
            "_________________________________________________________________\n",
            "dense_8 (Dense)              (None, 10)                510       \n",
            "=================================================================\n",
            "Total params: 42,310\n",
            "Trainable params: 42,310\n",
            "Non-trainable params: 0\n",
            "_________________________________________________________________\n"
          ],
          "name": "stdout"
        }
      ]
    },
    {
      "cell_type": "markdown",
      "metadata": {
        "id": "9u4FMgAsMcgN"
      },
      "source": [
        "## Compiling the model"
      ]
    },
    {
      "cell_type": "code",
      "metadata": {
        "id": "R4oQfnVpMdo-"
      },
      "source": [
        "# Compile the model\n",
        "model.compile(optimizer=keras.optimizers.SGD(),\n",
        "              loss='sparse_categorical_crossentropy',\n",
        "              metrics=['accuracy'])"
      ],
      "execution_count": 27,
      "outputs": []
    },
    {
      "cell_type": "markdown",
      "metadata": {
        "id": "gLdyw9n_VzUb"
      },
      "source": [
        "## Training the model"
      ]
    },
    {
      "cell_type": "markdown",
      "metadata": {
        "id": "u9KTlbBT8EXs"
      },
      "source": [
        "### Setting callbacks"
      ]
    },
    {
      "cell_type": "code",
      "metadata": {
        "id": "5_iUDJLP8K44"
      },
      "source": [
        "# ModelCheckpoint callback\n",
        "model_checkpoint_cb = keras.callbacks.ModelCheckpoint(filepath=abspath_curr + '/result/model/model.h5',\n",
        "                                                      save_weights_only=True)"
      ],
      "execution_count": 28,
      "outputs": []
    },
    {
      "cell_type": "markdown",
      "metadata": {
        "id": "3ylOeFwqb1U8"
      },
      "source": [
        "### Training, evaluating and saving the model"
      ]
    },
    {
      "cell_type": "code",
      "metadata": {
        "id": "0lES5CBZV176",
        "outputId": "484f903d-0ce9-4d31-a2d6-90d704dcf511",
        "colab": {
          "base_uri": "https://localhost:8080/"
        }
      },
      "source": [
        "history = model.fit(data_train,\n",
        "                    epochs=10,\n",
        "                    validation_data=data_valid,\n",
        "                    callbacks=[model_checkpoint_cb])"
      ],
      "execution_count": 29,
      "outputs": [
        {
          "output_type": "stream",
          "text": [
            "Epoch 1/10\n",
            "2625/2625 [==============================] - 9s 3ms/step - loss: 0.7345 - accuracy: 0.7448 - val_loss: 0.5493 - val_accuracy: 0.8036\n",
            "Epoch 2/10\n",
            "2625/2625 [==============================] - 9s 3ms/step - loss: 0.4959 - accuracy: 0.8258 - val_loss: 0.4610 - val_accuracy: 0.8386\n",
            "Epoch 3/10\n",
            "2625/2625 [==============================] - 9s 3ms/step - loss: 0.4488 - accuracy: 0.8417 - val_loss: 0.4547 - val_accuracy: 0.8348\n",
            "Epoch 4/10\n",
            "2625/2625 [==============================] - 9s 3ms/step - loss: 0.4212 - accuracy: 0.8507 - val_loss: 0.4229 - val_accuracy: 0.8495\n",
            "Epoch 5/10\n",
            "2625/2625 [==============================] - 9s 3ms/step - loss: 0.4027 - accuracy: 0.8581 - val_loss: 0.3968 - val_accuracy: 0.8582\n",
            "Epoch 6/10\n",
            "2625/2625 [==============================] - 9s 3ms/step - loss: 0.3860 - accuracy: 0.8630 - val_loss: 0.3895 - val_accuracy: 0.8594\n",
            "Epoch 7/10\n",
            "2625/2625 [==============================] - 9s 3ms/step - loss: 0.3732 - accuracy: 0.8677 - val_loss: 0.3819 - val_accuracy: 0.8629\n",
            "Epoch 8/10\n",
            "2625/2625 [==============================] - 9s 3ms/step - loss: 0.3614 - accuracy: 0.8715 - val_loss: 0.3898 - val_accuracy: 0.8602\n",
            "Epoch 9/10\n",
            "2625/2625 [==============================] - 9s 3ms/step - loss: 0.3515 - accuracy: 0.8740 - val_loss: 0.3904 - val_accuracy: 0.8643\n",
            "Epoch 10/10\n",
            "2625/2625 [==============================] - 9s 3ms/step - loss: 0.3439 - accuracy: 0.8772 - val_loss: 0.3755 - val_accuracy: 0.8644\n"
          ],
          "name": "stdout"
        }
      ]
    },
    {
      "cell_type": "markdown",
      "metadata": {
        "id": "naOELFqc6pSB"
      },
      "source": [
        "## Plotting the learning curve"
      ]
    },
    {
      "cell_type": "code",
      "metadata": {
        "id": "ZucB_4TQ4APW",
        "outputId": "cfe3aacc-10b6-42df-f8cd-c066ee9d57a0",
        "colab": {
          "base_uri": "https://localhost:8080/",
          "height": 348
        }
      },
      "source": [
        "# Create a figure\n",
        "pd.DataFrame(history.history).plot(figsize=(8, 5))\n",
        "\n",
        "# Save and show the figure\n",
        "plt.tight_layout()\n",
        "plt.savefig(abspath_curr + '/result/figure/learning_curve_with_modelcheckpoint_save_10.pdf')\n",
        "plt.show()"
      ],
      "execution_count": 30,
      "outputs": [
        {
          "output_type": "display_data",
          "data": {
            "image/png": "[encoded data removed]",
            "text/plain": [
              "<Figure size 576x360 with 1 Axes>"
            ]
          },
          "metadata": {
            "tags": [],
            "needs_background": "light"
          }
        }
      ]
    },
    {
      "cell_type": "markdown",
      "metadata": {
        "id": "IzuVOyb4MDsO"
      },
      "source": [
        "## Loading the saved model"
      ]
    },
    {
      "cell_type": "code",
      "metadata": {
        "id": "gG-RcICvMHSC"
      },
      "source": [
        "# Load the saved model\n",
        "model.load_weights(filepath=abspath_curr + '/result/model/model.h5')"
      ],
      "execution_count": 31,
      "outputs": []
    },
    {
      "cell_type": "markdown",
      "metadata": {
        "id": "9hZ_aQOvHoOd"
      },
      "source": [
        "## Continuing training the model"
      ]
    },
    {
      "cell_type": "code",
      "metadata": {
        "id": "cfwdufi_Hq9K",
        "outputId": "ced1912e-4961-471c-c7ca-5e80950a9170",
        "colab": {
          "base_uri": "https://localhost:8080/"
        }
      },
      "source": [
        "# Train, evaluate and save the model\n",
        "history = model.fit(data_train,\n",
        "                    epochs=5,\n",
        "                    validation_data=data_valid,\n",
        "                    callbacks=[model_checkpoint_cb])"
      ],
      "execution_count": 32,
      "outputs": [
        {
          "output_type": "stream",
          "text": [
            "Epoch 1/5\n",
            "2625/2625 [==============================] - 9s 3ms/step - loss: 0.3355 - accuracy: 0.8803 - val_loss: 0.3733 - val_accuracy: 0.8651\n",
            "Epoch 2/5\n",
            "2625/2625 [==============================] - 9s 3ms/step - loss: 0.3277 - accuracy: 0.8823 - val_loss: 0.3490 - val_accuracy: 0.8733\n",
            "Epoch 3/5\n",
            "2625/2625 [==============================] - 9s 3ms/step - loss: 0.3210 - accuracy: 0.8852 - val_loss: 0.3588 - val_accuracy: 0.8709\n",
            "Epoch 4/5\n",
            "2625/2625 [==============================] - 9s 3ms/step - loss: 0.3147 - accuracy: 0.8864 - val_loss: 0.3563 - val_accuracy: 0.8733\n",
            "Epoch 5/5\n",
            "2625/2625 [==============================] - 9s 3ms/step - loss: 0.3085 - accuracy: 0.8881 - val_loss: 0.3692 - val_accuracy: 0.8693\n"
          ],
          "name": "stdout"
        }
      ]
    },
    {
      "cell_type": "markdown",
      "metadata": {
        "id": "jooIV3Tr38rw"
      },
      "source": [
        "## Plotting the learning curve\n",
        "\n"
      ]
    },
    {
      "cell_type": "code",
      "metadata": {
        "id": "ZdftIsbI3_nV",
        "outputId": "7a5b8df1-818e-4861-e932-964326eb97dd",
        "colab": {
          "base_uri": "https://localhost:8080/",
          "height": 348
        }
      },
      "source": [
        "# Create a figure\n",
        "pd.DataFrame(history.history).plot(figsize=(8, 5))\n",
        "\n",
        "# Save and show the figure\n",
        "plt.tight_layout()\n",
        "plt.savefig(abspath_curr + '/result/figure/learning_curve_with_modelcheckpoint_save_10_20.pdf')\n",
        "plt.show()"
      ],
      "execution_count": 33,
      "outputs": [
        {
          "output_type": "display_data",
          "data": {
            "image/png": "[encoded data removed]",
            "text/plain": [
              "<Figure size 576x360 with 1 Axes>"
            ]
          },
          "metadata": {
            "tags": [],
            "needs_background": "light"
          }
        }
      ]
    },
    {
      "cell_type": "markdown",
      "metadata": {
        "id": "IWVJ3KwUub-j"
      },
      "source": [
        "# Training (With ModelCheckpoint callback to Save the Best Model)\n",
        "\n",
        "\n"
      ]
    },
    {
      "cell_type": "markdown",
      "metadata": {
        "id": "Cmzcn8FqcgmU"
      },
      "source": [
        "## Building the model"
      ]
    },
    {
      "cell_type": "code",
      "metadata": {
        "id": "Ff-n6bJBcfwq",
        "outputId": "aab4716e-1cca-47fe-d7f8-4d1b25129309",
        "colab": {
          "base_uri": "https://localhost:8080/"
        }
      },
      "source": [
        "# A sequential dnn\n",
        "model = keras.models.Sequential()\n",
        "\n",
        "# Add the input layer\n",
        "model.add(keras.layers.Flatten(input_shape=[28, 28]))\n",
        "\n",
        "# Add two hidden layers\n",
        "model.add(keras.layers.Dense(50, activation='relu'))\n",
        "model.add(keras.layers.Dense(50, activation='relu'))\n",
        "\n",
        "# Add the output layer\n",
        "model.add(keras.layers.Dense(10, activation='softmax'))\n",
        "\n",
        "# The model summary\n",
        "model.summary()"
      ],
      "execution_count": 34,
      "outputs": [
        {
          "output_type": "stream",
          "text": [
            "Model: \"sequential_3\"\n",
            "_________________________________________________________________\n",
            "Layer (type)                 Output Shape              Param #   \n",
            "=================================================================\n",
            "flatten_3 (Flatten)          (None, 784)               0         \n",
            "_________________________________________________________________\n",
            "dense_9 (Dense)              (None, 50)                39250     \n",
            "_________________________________________________________________\n",
            "dense_10 (Dense)             (None, 50)                2550      \n",
            "_________________________________________________________________\n",
            "dense_11 (Dense)             (None, 10)                510       \n",
            "=================================================================\n",
            "Total params: 42,310\n",
            "Trainable params: 42,310\n",
            "Non-trainable params: 0\n",
            "_________________________________________________________________\n"
          ],
          "name": "stdout"
        }
      ]
    },
    {
      "cell_type": "markdown",
      "metadata": {
        "id": "6sbntreiMnnE"
      },
      "source": [
        "## Compiling the model"
      ]
    },
    {
      "cell_type": "code",
      "metadata": {
        "id": "pIQ7PZl9Mr-Y"
      },
      "source": [
        "# Compile the model\n",
        "model.compile(optimizer=keras.optimizers.SGD(),\n",
        "              loss='sparse_categorical_crossentropy',\n",
        "              metrics=['accuracy'])"
      ],
      "execution_count": 35,
      "outputs": []
    },
    {
      "cell_type": "markdown",
      "metadata": {
        "id": "Z8dQknUOIWID"
      },
      "source": [
        "## Training the model"
      ]
    },
    {
      "cell_type": "markdown",
      "metadata": {
        "id": "KcPj1Q3xb1VZ"
      },
      "source": [
        "### Setting callbacks"
      ]
    },
    {
      "cell_type": "code",
      "metadata": {
        "id": "vMkIIsexb1VZ"
      },
      "source": [
        "# ModelCheckpoint callback\n",
        "model_checkpoint_cb = keras.callbacks.ModelCheckpoint(filepath=abspath_curr + '/result/model/model.h5',\n",
        "                                                      save_best_only=True,\n",
        "                                                      save_weights_only=True)"
      ],
      "execution_count": 36,
      "outputs": []
    },
    {
      "cell_type": "markdown",
      "metadata": {
        "id": "hFpjkd99b1Va"
      },
      "source": [
        "### Training, evaluating and saving the best model"
      ]
    },
    {
      "cell_type": "code",
      "metadata": {
        "id": "a5vhwhdAIZyH",
        "outputId": "594f6980-e8e2-46fd-eb79-92be5fe96754",
        "colab": {
          "base_uri": "https://localhost:8080/"
        }
      },
      "source": [
        "# Train, evaluate and save the best model\n",
        "history = model.fit(data_train,\n",
        "                    epochs=20,\n",
        "                    validation_data=data_valid,\n",
        "                    callbacks=[model_checkpoint_cb])"
      ],
      "execution_count": 37,
      "outputs": [
        {
          "output_type": "stream",
          "text": [
            "Epoch 1/20\n",
            "2625/2625 [==============================] - 9s 3ms/step - loss: 0.7301 - accuracy: 0.7523 - val_loss: 0.5334 - val_accuracy: 0.8126\n",
            "Epoch 2/20\n",
            "2625/2625 [==============================] - 9s 4ms/step - loss: 0.4875 - accuracy: 0.8278 - val_loss: 0.4512 - val_accuracy: 0.8439\n",
            "Epoch 3/20\n",
            "2625/2625 [==============================] - 9s 3ms/step - loss: 0.4428 - accuracy: 0.8431 - val_loss: 0.4282 - val_accuracy: 0.8473\n",
            "Epoch 4/20\n",
            "2625/2625 [==============================] - 9s 3ms/step - loss: 0.4169 - accuracy: 0.8525 - val_loss: 0.4221 - val_accuracy: 0.8492\n",
            "Epoch 5/20\n",
            "2625/2625 [==============================] - 9s 3ms/step - loss: 0.3937 - accuracy: 0.8613 - val_loss: 0.3915 - val_accuracy: 0.8609\n",
            "Epoch 6/20\n",
            "2625/2625 [==============================] - 9s 3ms/step - loss: 0.3805 - accuracy: 0.8660 - val_loss: 0.3870 - val_accuracy: 0.8612\n",
            "Epoch 7/20\n",
            "2625/2625 [==============================] - 9s 3ms/step - loss: 0.3666 - accuracy: 0.8696 - val_loss: 0.3763 - val_accuracy: 0.8660\n",
            "Epoch 8/20\n",
            "2625/2625 [==============================] - 9s 3ms/step - loss: 0.3549 - accuracy: 0.8737 - val_loss: 0.3713 - val_accuracy: 0.8652\n",
            "Epoch 9/20\n",
            "2625/2625 [==============================] - 9s 3ms/step - loss: 0.3455 - accuracy: 0.8763 - val_loss: 0.3653 - val_accuracy: 0.8688\n",
            "Epoch 10/20\n",
            "2625/2625 [==============================] - 8s 3ms/step - loss: 0.3362 - accuracy: 0.8798 - val_loss: 0.3549 - val_accuracy: 0.8743\n",
            "Epoch 11/20\n",
            "2625/2625 [==============================] - 8s 3ms/step - loss: 0.3303 - accuracy: 0.8818 - val_loss: 0.3652 - val_accuracy: 0.8687\n",
            "Epoch 12/20\n",
            "2625/2625 [==============================] - 8s 3ms/step - loss: 0.3225 - accuracy: 0.8828 - val_loss: 0.3698 - val_accuracy: 0.8656\n",
            "Epoch 13/20\n",
            "2625/2625 [==============================] - 9s 3ms/step - loss: 0.3167 - accuracy: 0.8872 - val_loss: 0.3478 - val_accuracy: 0.8738\n",
            "Epoch 14/20\n",
            "2625/2625 [==============================] - 8s 3ms/step - loss: 0.3102 - accuracy: 0.8880 - val_loss: 0.3484 - val_accuracy: 0.8751\n",
            "Epoch 15/20\n",
            "2625/2625 [==============================] - 8s 3ms/step - loss: 0.3041 - accuracy: 0.8915 - val_loss: 0.3660 - val_accuracy: 0.8703\n",
            "Epoch 16/20\n",
            "2625/2625 [==============================] - 8s 3ms/step - loss: 0.2996 - accuracy: 0.8927 - val_loss: 0.3861 - val_accuracy: 0.8636\n",
            "Epoch 17/20\n",
            "2625/2625 [==============================] - 9s 3ms/step - loss: 0.2945 - accuracy: 0.8949 - val_loss: 0.3402 - val_accuracy: 0.8766\n",
            "Epoch 18/20\n",
            "2625/2625 [==============================] - 9s 3ms/step - loss: 0.2910 - accuracy: 0.8958 - val_loss: 0.3365 - val_accuracy: 0.8793\n",
            "Epoch 19/20\n",
            "2625/2625 [==============================] - 8s 3ms/step - loss: 0.2860 - accuracy: 0.8971 - val_loss: 0.3611 - val_accuracy: 0.8711\n",
            "Epoch 20/20\n",
            "2625/2625 [==============================] - 8s 3ms/step - loss: 0.2805 - accuracy: 0.8976 - val_loss: 0.3620 - val_accuracy: 0.8673\n"
          ],
          "name": "stdout"
        }
      ]
    },
    {
      "cell_type": "markdown",
      "metadata": {
        "id": "F_NuGQw-Idt6"
      },
      "source": [
        "## Plotting the learning curve"
      ]
    },
    {
      "cell_type": "code",
      "metadata": {
        "id": "Z2fsZ8jOIgqD",
        "outputId": "b00ada42-c5c2-4ba1-cbb3-5e66d6025973",
        "colab": {
          "base_uri": "https://localhost:8080/",
          "height": 348
        }
      },
      "source": [
        "# Create a figure\n",
        "pd.DataFrame(history.history).plot(figsize=(8, 5))\n",
        "\n",
        "# Save and show the figure\n",
        "plt.tight_layout()\n",
        "plt.savefig(abspath_curr + '/result/figure/learning_curve_with_modelcheckpoint_save_best.pdf')\n",
        "plt.show()"
      ],
      "execution_count": 38,
      "outputs": [
        {
          "output_type": "display_data",
          "data": {
            "image/png": "[encoded data removed]",
            "text/plain": [
              "<Figure size 576x360 with 1 Axes>"
            ]
          },
          "metadata": {
            "tags": [],
            "needs_background": "light"
          }
        }
      ]
    },
    {
      "cell_type": "markdown",
      "metadata": {
        "id": "wUW8TGCUNAn0"
      },
      "source": [
        "# Training (With ModelCheckpoint and EarlyStopping)"
      ]
    },
    {
      "cell_type": "markdown",
      "metadata": {
        "id": "X4gb9xducnlO"
      },
      "source": [
        "## Building the model"
      ]
    },
    {
      "cell_type": "code",
      "metadata": {
        "id": "X1DlY50Wcm0B",
        "outputId": "a831c11f-139c-44c3-8904-29cdd6a1fd3e",
        "colab": {
          "base_uri": "https://localhost:8080/"
        }
      },
      "source": [
        "# A sequential dnn\n",
        "model = keras.models.Sequential()\n",
        "\n",
        "# Add the input layer\n",
        "model.add(keras.layers.Flatten(input_shape=[28, 28]))\n",
        "\n",
        "# Add two hidden layers\n",
        "model.add(keras.layers.Dense(50, activation='relu'))\n",
        "model.add(keras.layers.Dense(50, activation='relu'))\n",
        "\n",
        "# Add the output layer\n",
        "model.add(keras.layers.Dense(10, activation='softmax'))\n",
        "\n",
        "# The model summary\n",
        "model.summary()"
      ],
      "execution_count": 39,
      "outputs": [
        {
          "output_type": "stream",
          "text": [
            "Model: \"sequential_4\"\n",
            "_________________________________________________________________\n",
            "Layer (type)                 Output Shape              Param #   \n",
            "=================================================================\n",
            "flatten_4 (Flatten)          (None, 784)               0         \n",
            "_________________________________________________________________\n",
            "dense_12 (Dense)             (None, 50)                39250     \n",
            "_________________________________________________________________\n",
            "dense_13 (Dense)             (None, 50)                2550      \n",
            "_________________________________________________________________\n",
            "dense_14 (Dense)             (None, 10)                510       \n",
            "=================================================================\n",
            "Total params: 42,310\n",
            "Trainable params: 42,310\n",
            "Non-trainable params: 0\n",
            "_________________________________________________________________\n"
          ],
          "name": "stdout"
        }
      ]
    },
    {
      "cell_type": "markdown",
      "metadata": {
        "id": "5l9DbmVzNQR7"
      },
      "source": [
        "## Compiling the model"
      ]
    },
    {
      "cell_type": "code",
      "metadata": {
        "id": "_e7LoJ-KNRo4"
      },
      "source": [
        "# Compile the model\n",
        "model.compile(optimizer=keras.optimizers.SGD(),\n",
        "              loss='sparse_categorical_crossentropy',\n",
        "              metrics=['accuracy'])"
      ],
      "execution_count": 40,
      "outputs": []
    },
    {
      "cell_type": "markdown",
      "metadata": {
        "id": "p5GGitWVNj0m"
      },
      "source": [
        "## Training the model"
      ]
    },
    {
      "cell_type": "markdown",
      "metadata": {
        "id": "8b69RD7fNVDx"
      },
      "source": [
        "### Setting callbacks"
      ]
    },
    {
      "cell_type": "code",
      "metadata": {
        "id": "hZEE71ajNWGb"
      },
      "source": [
        "# ModelCheckpoint callback\n",
        "model_checkpoint_cb = keras.callbacks.ModelCheckpoint(filepath=abspath_curr + '/result/model/model.h5',\n",
        "                                                      save_best_only=True,\n",
        "                                                      save_weights_only=True)\n",
        "\n",
        "# EarlyStopping callback\n",
        "early_stopping_cb = keras.callbacks.EarlyStopping(patience=5,\n",
        "                                                  restore_best_weights=True)"
      ],
      "execution_count": 41,
      "outputs": []
    },
    {
      "cell_type": "markdown",
      "metadata": {
        "id": "5LFhN5y-b1Vh"
      },
      "source": [
        "### Training, evaluating and saving the best model"
      ]
    },
    {
      "cell_type": "code",
      "metadata": {
        "id": "4ZS7h4WENqLt",
        "outputId": "1987e2f3-da06-441b-b2b3-e2eb52c58b58",
        "colab": {
          "base_uri": "https://localhost:8080/"
        }
      },
      "source": [
        "# Train, evaluate and save the best model\n",
        "history = model.fit(data_train,\n",
        "                    epochs=20,\n",
        "                    validation_data=data_valid,\n",
        "                    callbacks=[model_checkpoint_cb, early_stopping_cb])"
      ],
      "execution_count": 42,
      "outputs": [
        {
          "output_type": "stream",
          "text": [
            "Epoch 1/20\n",
            "2625/2625 [==============================] - 8s 3ms/step - loss: 0.7441 - accuracy: 0.7450 - val_loss: 0.5646 - val_accuracy: 0.7982\n",
            "Epoch 2/20\n",
            "2625/2625 [==============================] - 8s 3ms/step - loss: 0.5041 - accuracy: 0.8234 - val_loss: 0.4610 - val_accuracy: 0.8397\n",
            "Epoch 3/20\n",
            "2625/2625 [==============================] - 8s 3ms/step - loss: 0.4545 - accuracy: 0.8395 - val_loss: 0.4322 - val_accuracy: 0.8481\n",
            "Epoch 4/20\n",
            "2625/2625 [==============================] - 8s 3ms/step - loss: 0.4234 - accuracy: 0.8502 - val_loss: 0.4303 - val_accuracy: 0.8488\n",
            "Epoch 5/20\n",
            "2625/2625 [==============================] - 8s 3ms/step - loss: 0.4015 - accuracy: 0.8570 - val_loss: 0.4032 - val_accuracy: 0.8569\n",
            "Epoch 6/20\n",
            "2625/2625 [==============================] - 9s 3ms/step - loss: 0.3869 - accuracy: 0.8619 - val_loss: 0.3911 - val_accuracy: 0.8572\n",
            "Epoch 7/20\n",
            "2625/2625 [==============================] - 9s 3ms/step - loss: 0.3718 - accuracy: 0.8664 - val_loss: 0.3762 - val_accuracy: 0.8645\n",
            "Epoch 8/20\n",
            "2625/2625 [==============================] - 8s 3ms/step - loss: 0.3615 - accuracy: 0.8698 - val_loss: 0.3776 - val_accuracy: 0.8639\n",
            "Epoch 9/20\n",
            "2625/2625 [==============================] - 8s 3ms/step - loss: 0.3506 - accuracy: 0.8743 - val_loss: 0.3564 - val_accuracy: 0.8705\n",
            "Epoch 10/20\n",
            "2625/2625 [==============================] - 8s 3ms/step - loss: 0.3419 - accuracy: 0.8774 - val_loss: 0.3633 - val_accuracy: 0.8684\n",
            "Epoch 11/20\n",
            "2625/2625 [==============================] - 8s 3ms/step - loss: 0.3344 - accuracy: 0.8799 - val_loss: 0.3598 - val_accuracy: 0.8672\n",
            "Epoch 12/20\n",
            "2625/2625 [==============================] - 8s 3ms/step - loss: 0.3258 - accuracy: 0.8827 - val_loss: 0.3641 - val_accuracy: 0.8673\n",
            "Epoch 13/20\n",
            "2625/2625 [==============================] - 8s 3ms/step - loss: 0.3201 - accuracy: 0.8829 - val_loss: 0.3433 - val_accuracy: 0.8761\n",
            "Epoch 14/20\n",
            "2625/2625 [==============================] - 8s 3ms/step - loss: 0.3130 - accuracy: 0.8866 - val_loss: 0.3463 - val_accuracy: 0.8751\n",
            "Epoch 15/20\n",
            "2625/2625 [==============================] - 8s 3ms/step - loss: 0.3083 - accuracy: 0.8873 - val_loss: 0.3484 - val_accuracy: 0.8734\n",
            "Epoch 16/20\n",
            "2625/2625 [==============================] - 9s 3ms/step - loss: 0.3011 - accuracy: 0.8908 - val_loss: 0.3341 - val_accuracy: 0.8791\n",
            "Epoch 17/20\n",
            "2625/2625 [==============================] - 8s 3ms/step - loss: 0.2975 - accuracy: 0.8916 - val_loss: 0.3423 - val_accuracy: 0.8772\n",
            "Epoch 18/20\n",
            "2625/2625 [==============================] - 9s 3ms/step - loss: 0.2929 - accuracy: 0.8927 - val_loss: 0.3422 - val_accuracy: 0.8784\n",
            "Epoch 19/20\n",
            "2625/2625 [==============================] - 8s 3ms/step - loss: 0.2864 - accuracy: 0.8960 - val_loss: 0.3383 - val_accuracy: 0.8788\n",
            "Epoch 20/20\n",
            "2625/2625 [==============================] - 8s 3ms/step - loss: 0.2834 - accuracy: 0.8970 - val_loss: 0.3287 - val_accuracy: 0.8824\n"
          ],
          "name": "stdout"
        }
      ]
    },
    {
      "cell_type": "markdown",
      "metadata": {
        "id": "NJoCcgsIR-TE"
      },
      "source": [
        "## Plotting the learning curve"
      ]
    },
    {
      "cell_type": "code",
      "metadata": {
        "id": "Z9f7MA8xSA4f",
        "outputId": "b461cc5c-a2d4-474a-c63d-136b9eef995b",
        "colab": {
          "base_uri": "https://localhost:8080/",
          "height": 348
        }
      },
      "source": [
        "# Create a figure\n",
        "pd.DataFrame(history.history).plot(figsize=(8, 5))\n",
        "\n",
        "# Save and show the figure\n",
        "plt.tight_layout()\n",
        "plt.savefig(abspath_curr + '/result/figure/learning_curve_with_modelcheckpoint_earlystopping.pdf')\n",
        "plt.show()"
      ],
      "execution_count": 43,
      "outputs": [
        {
          "output_type": "display_data",
          "data": {
            "image/png": "[encoded data removed]",
            "text/plain": [
              "<Figure size 576x360 with 1 Axes>"
            ]
          },
          "metadata": {
            "tags": [],
            "needs_background": "light"
          }
        }
      ]
    },
    {
      "cell_type": "markdown",
      "metadata": {
        "id": "RkGivY_MA6m1"
      },
      "source": [
        "# Testing the Best Model"
      ]
    },
    {
      "cell_type": "markdown",
      "metadata": {
        "id": "pjg97rxBvTsD"
      },
      "source": [
        "## Loading the saved model"
      ]
    },
    {
      "cell_type": "code",
      "metadata": {
        "id": "vWOYFg8BvYI9"
      },
      "source": [
        "# Load the saved model\n",
        "model.load_weights(filepath=abspath_curr + '/result/model/model.h5')"
      ],
      "execution_count": 44,
      "outputs": []
    },
    {
      "cell_type": "markdown",
      "metadata": {
        "id": "YAfOtSI7wajL"
      },
      "source": [
        "## Evaluating the model"
      ]
    },
    {
      "cell_type": "code",
      "metadata": {
        "id": "aoJnAfYfYDjH",
        "outputId": "db026270-c5dd-498e-eb88-e7e1e68c0f25",
        "colab": {
          "base_uri": "https://localhost:8080/"
        }
      },
      "source": [
        "loss, accuracy = model.evaluate(data_test)"
      ],
      "execution_count": 45,
      "outputs": [
        {
          "output_type": "stream",
          "text": [
            "625/625 [==============================] - 2s 3ms/step - loss: 0.3671 - accuracy: 0.8723\n"
          ],
          "name": "stdout"
        }
      ]
    }
  ]
}